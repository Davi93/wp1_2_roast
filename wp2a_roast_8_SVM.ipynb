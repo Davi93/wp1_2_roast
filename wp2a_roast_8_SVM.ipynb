{
 "cells": [
  {
   "cell_type": "code",
   "execution_count": 1,
   "id": "8f095d76",
   "metadata": {},
   "outputs": [],
   "source": [
    "## Wp2a Roast SVM analysis - Aloi Davide (PhD student - University of Birmingham)\n",
    "\n",
    "# Imports\n",
    "import warnings\n",
    "warnings.filterwarnings(\"ignore\")\n",
    "import os\n",
    "import glob\n",
    "import numpy as np\n",
    "from nilearn import image, plotting\n",
    "from nilearn.image import new_img_like\n",
    "from scipy import ndimage\n",
    "import scipy.io\n",
    "from ipywidgets import IntProgress\n",
    "from IPython.display import display\n",
    "import time\n",
    "\n",
    "results_folder = 'D:\\\\roast-chapter3\\\\wp2a_results\\\\' # where wp2a e-field maps, current density maps and brain masks were saved\n",
    "\n",
    "emag_scans = image.load_img(os.path.join(results_folder + 'wp2a_all_emag_maps.nii'))\n",
    "cd_scans = image.load_img(os.path.join(results_folder + 'wp2a_all_cd_maps.nii'))\n",
    "mask_scans = image.load_img(os.path.join(results_folder + 'wp2a_all_masks_maps.nii'))"
   ]
  },
  {
   "cell_type": "code",
   "execution_count": 2,
   "id": "e464711c",
   "metadata": {},
   "outputs": [],
   "source": [
    "## Parameters and variables: \n",
    "main_folder = 'C:\\\\Users\\\\davide\\\\Documents\\\\GitHub\\\\wp1_2_roast\\\\' \n",
    "output_folder = 'D:\\\\roast-chapter3\\\\wp2a_results\\\\' # where to save e-field maps, current density maps and brain masks\n",
    "verbose = False # Print each subject's output or not\n",
    "\n",
    "# List of subjects\n",
    "subjects = ['01','02','03','04','06','07','08','09','10','11','12','13','14','15','16','17','18','19','20','22','23','24']\n",
    "\n",
    "## Loading DCM results \n",
    "# Day1_all_EPvalues.mat file contains 66 DCM matrices (anodal, cathodal and sham, per participant (N=22)).\n",
    "# This are the results of the comparison Day-1 pre < Day-1 post, per subject, per stimulation condition (anodal, cathodal, sham)\n",
    "# Connections in the matrix are (in this order): M1, Th, SMA, Cerebellum.\n",
    "# The DCM quantifies the change in effective connectivity after stimulation as compared to pre stimulation.\n",
    "# NB: I am interested only in anodal (indexes 0, 3, 6 ... 63) and sham (indexes 2, 5, 8... 65)\n",
    "# NB: Each structure in the Day1_all_EPvalues.mat file contains an array of size 16. To get the DCM matrix,\n",
    "# each array has to be reshaped (4,4) and transposed, because the DCM \"thinks\" columns (from) by rows (to) (rather than \n",
    "# rows x columns like everyone else in the world).\n",
    "# NB: The Day_1_all_EPvalues.mat file was created with the script wp2a_roast_4_extract_single_dcms.m\n",
    "\n",
    "dcm_data_day1_path = os.path.join(main_folder, 'wp2a_DCMfiles', 'Day1_all_EPvalues.mat') \n",
    "dcm_data_day1 = scipy.io.loadmat(dcm_data_day1_path)\n",
    "\n",
    "pp_data_day1_path = os.path.join(main_folder, 'wp2a_DCMfiles', 'Day1_all_Pp.mat') \n",
    "pp_data_day1 = scipy.io.loadmat(pp_data_day1_path)\n",
    "\n",
    "## Loading AAL3 atlas and extracting M1 / Thalamus ROIs (regions of interest)\n",
    "# AAL3 atlas paper: https://www.oxcns.org/papers/607%20Rolls%20Huang%20Lin%20Feng%20Joliot%202020%20AAL3.pdf \n",
    "AAl3_path = os.path.join(main_folder, 'rois', 'AAL3v1_1mm.nii')\n",
    "AAL3_atlas = image.load_img(AAl3_path)\n",
    "\n",
    "## Creating M1 and Th masks from the AAL3 atlas. Loading MNI template\n",
    "# AAL3 index for left M1 = 1\n",
    "m1 = image.math_img(\"np.where(img == 1, 1, 0)\", img = AAL3_atlas) \n",
    "# AAL3 index for TH = 121 - 149 (odd values only (left thalamus))\n",
    "th = image.math_img(\"np.where(np.isin(img, np.arange(121, 150, 2)), 1, 0)\", img = AAL3_atlas) \n",
    "\n",
    "m1_r = image.resample_to_img(m1, cd_scans, interpolation = 'nearest') # m1 mask resampled \n",
    "th_r = image.resample_to_img(th, cd_scans, interpolation = 'nearest') # th mask resampled \n",
    "\n",
    "# MNI template for plotting and masking purposes\n",
    "mni = image.load_img(os.path.join(main_folder, 'rois', 'MNI152_T1_1mm_Brain.nii'))\n",
    "mni_resampled = image.resample_to_img(mni, cd_scans, interpolation = 'nearest')\n",
    "\n",
    "## Lists where I will store each subject's results\n",
    "all_dcm_matrices = np.zeros([4,4,22]) # DCM matrices for the anodal condition\n",
    "all_dcm_matrices_sham = np.zeros([4,4,22]) # DCM matrices for the sham condition"
   ]
  },
  {
   "cell_type": "code",
   "execution_count": 3,
   "id": "bfeb300b",
   "metadata": {},
   "outputs": [],
   "source": [
    "pos_dcm_res = 0\n",
    "thm1_labels = np.zeros([22])\n",
    "for sbj in subjects: \n",
    "    # Loading DCM results\n",
    "    # Transposing is needed because the PEB lists values column by row and not row by column...\n",
    "    this_dcm = np.array(dcm_data_day1['ALLEP'][0][pos_dcm_res].todense().reshape((4,4))).T # Anodal\n",
    "    this_dcm_sham = np.array(dcm_data_day1['ALLEP'][0][pos_dcm_res + 2].todense().reshape((4,4))).T  # Sham\n",
    "    this_pp_anod = pp_data_day1['BMAs'][0][pos_dcm_res]['Pp'][0][0][16:32].reshape([4,4]).T\n",
    "    \n",
    "    # Storing DCM matrices\n",
    "    all_dcm_matrices[:,:,pos_dcm_res] = this_dcm\n",
    "    all_dcm_matrices_sham[:,:,pos_dcm_res] = this_dcm_sham # not used\n",
    "    \n",
    "    dcm_matirx_th = np.where(this_pp_anod > 0.75, this_dcm, 0) # dcm matrix thresholded (>75% posterior probability)\n",
    "    #print(dcm_matirx_th)\n",
    "    if (dcm_matirx_th[0,1]>0) or (dcm_matirx_th[1,0]>0) or (dcm_matirx_th[0,0]>0) or (dcm_matirx_th[1,1]>0):\n",
    "        thm1_labels[pos_dcm_res] = 1\n",
    "\n",
    "    pos_dcm_res += 1 "
   ]
  },
  {
   "cell_type": "code",
   "execution_count": 26,
   "id": "798f5a4a",
   "metadata": {},
   "outputs": [
    {
     "data": {
      "text/plain": [
       "array([0., 0., 1., 0., 0., 0., 0., 1., 1., 1., 1., 1., 0., 0., 0., 0., 0.,\n",
       "       0., 1., 0., 0., 1.])"
      ]
     },
     "execution_count": 26,
     "metadata": {},
     "output_type": "execute_result"
    }
   ],
   "source": [
    "# Classes (1 = at least 1 increase in connectivity (m1, th, th-m1, m1-th), 0 = no increases in connectivity)\n",
    "thm1_labels"
   ]
  },
  {
   "cell_type": "code",
   "execution_count": 10,
   "id": "11999232",
   "metadata": {},
   "outputs": [],
   "source": [
    "from nilearn.decoding import Decoder\n",
    "from sklearn.model_selection import KFold\n",
    "\n",
    "n_folds = 5\n",
    "decoder = Decoder(\n",
    "    estimator='svc', mask=th,\n",
    "    standardize=True, cv=n_folds,\n",
    "    scoring='accuracy'\n",
    ")\n",
    "decoder.fit(cd_scans, thm1_labels)\n"
   ]
  },
  {
   "cell_type": "code",
   "execution_count": 25,
   "id": "ead1e292",
   "metadata": {},
   "outputs": [
    {
     "name": "stdout",
     "output_type": "stream",
     "text": [
      "{0.0: [0.6, 0.2, 0.75, 0.5, 1.0], 1.0: [0.6, 0.2, 0.75, 0.5, 1.0]}\n"
     ]
    }
   ],
   "source": [
    "\n",
    "print(decoder.cv_scores_)\n"
   ]
  },
  {
   "cell_type": "code",
   "execution_count": 24,
   "id": "57de4700",
   "metadata": {},
   "outputs": [
    {
     "name": "stdout",
     "output_type": "stream",
     "text": [
      "Classification accuracy: 61.0% std: 26.5%\n"
     ]
    }
   ],
   "source": [
    "print('Classification accuracy: ' + str(np.mean(decoder.cv_scores_[0])*100) + '% std: '\n",
    "      + str(round(np.std((decoder.cv_scores_[0])),3)*100) + '%')"
   ]
  },
  {
   "cell_type": "code",
   "execution_count": 14,
   "id": "d63187ef",
   "metadata": {},
   "outputs": [
    {
     "data": {
      "text/plain": [
       "<nilearn.plotting.displays.OrthoSlicer at 0x1f3e32742e0>"
      ]
     },
     "execution_count": 14,
     "metadata": {},
     "output_type": "execute_result"
    },
    {
     "data": {
      "image/png": "[encoded data removed]",
      "text/plain": [
       "<Figure size 525.6x187.2 with 5 Axes>"
      ]
     },
     "metadata": {},
     "output_type": "display_data"
    }
   ],
   "source": [
    "weight_img = decoder.coef_img_[1]\n",
    "from nilearn.plotting import plot_stat_map, show\n",
    "plot_stat_map(weight_img, title='SVM weights', draw_cross = False)"
   ]
  },
  {
   "cell_type": "code",
   "execution_count": 9,
   "id": "35012973",
   "metadata": {},
   "outputs": [
    {
     "name": "stdout",
     "output_type": "stream",
     "text": [
      "(157, 189, 156, 22)\n",
      "(22, 8928)\n"
     ]
    }
   ],
   "source": [
    "## Scikit learn approach\n",
    "\n",
    "# Ensure the mask is boolean\n",
    "mask = th_r.get_fdata().astype(bool)\n",
    "unmasked_data = np.zeros(mask.shape)\n",
    "\n",
    "# Apply the mask, X = voxels in the mask\n",
    "print(cd_scans.get_fdata().shape) # (x, y, z x subjects)\n",
    "\n",
    "X = cd_scans.get_fdata()[mask].T # Our feature vectors (22 feature vectors, 8928 features)\n",
    "y = thm1_labels\n",
    "\n",
    "print(X.shape) # (x, y, z x subjects)"
   ]
  },
  {
   "cell_type": "code",
   "execution_count": null,
   "id": "8ccc55fc",
   "metadata": {},
   "outputs": [],
   "source": [
    "from sklearn.feature_selection import SelectKBest\n",
    "from sklearn.feature_selection import f_classif\n",
    "from sklearn.svm import SVC\n",
    "\n",
    "# Feature selection using Anova (F-test) (to reduce the dimensions (features))\n",
    "# Takes the 500 voxels that show differences across groups\n",
    "feature_selection = SelectKBest(f_classif, k=500) #Anova F test\n",
    "\n",
    "clf = SVC(kernel = 'linear') # Support vector classifier (linear)"
   ]
  },
  {
   "cell_type": "code",
   "execution_count": null,
   "id": "6bd21c79",
   "metadata": {},
   "outputs": [],
   "source": [
    "from sklearn.pipeline import Pipeline\n",
    "# We now create a pipeline that comprises both\n",
    "anova_svc = Pipeline([('anova', feature_selection), ('svc', clf)])"
   ]
  },
  {
   "cell_type": "code",
   "execution_count": null,
   "id": "db6480cf",
   "metadata": {},
   "outputs": [],
   "source": [
    "# Fit and predict\n",
    "anova_svc.fit(X, y)\n",
    "y_pred = anova_svc.predict(X)"
   ]
  },
  {
   "cell_type": "code",
   "execution_count": null,
   "id": "f9eb78d1",
   "metadata": {},
   "outputs": [],
   "source": [
    "### Look at the discriminating weights\n",
    "coef = clf.coef_\n",
    "# reverse feature selection\n",
    "coef = feature_selection.inverse_transform(coef)"
   ]
  },
  {
   "cell_type": "code",
   "execution_count": 8,
   "id": "9c9bd1eb",
   "metadata": {},
   "outputs": [
    {
     "ename": "ImportError",
     "evalue": "cannot import name 'mask' from 'utils' (C:\\Users\\davide\\anaconda3\\lib\\site-packages\\utils\\__init__.py)",
     "output_type": "error",
     "traceback": [
      "\u001b[1;31m---------------------------------------------------------------------------\u001b[0m",
      "\u001b[1;31mImportError\u001b[0m                               Traceback (most recent call last)",
      "\u001b[1;32m<ipython-input-8-8d1fa84cbfe7>\u001b[0m in \u001b[0;36m<module>\u001b[1;34m\u001b[0m\n\u001b[1;32m----> 1\u001b[1;33m \u001b[1;32mfrom\u001b[0m \u001b[0mutils\u001b[0m \u001b[1;32mimport\u001b[0m \u001b[0mmask\u001b[0m\u001b[1;33m\u001b[0m\u001b[1;33m\u001b[0m\u001b[0m\n\u001b[0m\u001b[0;32m      2\u001b[0m \u001b[1;31m#coef_map = np.where(mask.ravel() == 1, coef[0].ravel(), 0)\u001b[0m\u001b[1;33m\u001b[0m\u001b[1;33m\u001b[0m\u001b[1;33m\u001b[0m\u001b[0m\n",
      "\u001b[1;31mImportError\u001b[0m: cannot import name 'mask' from 'utils' (C:\\Users\\davide\\anaconda3\\lib\\site-packages\\utils\\__init__.py)"
     ]
    }
   ],
   "source": []
  },
  {
   "cell_type": "code",
   "execution_count": null,
   "id": "a5bf4f5b",
   "metadata": {},
   "outputs": [],
   "source": [
    "import matplotlib.pyplot as plt\n",
    "\n",
    "plt.imshow(np.rot90(mni_resampled.get_fdata()[:,:,110],-1),\n",
    "           origin = 'lower',\n",
    "           interpolation='nearest',\n",
    "           cmap='gray')\n",
    "\n",
    "plt.imshow(np.rot90(unmasked_coef[:,:,110],-1),\n",
    "           origin = 'lower',\n",
    "           interpolation= 'nearest',\n",
    "           cmap='Reds', alpha = 0.5, vmax = 0.01)\n",
    "\n",
    "plt.axis('off')\n",
    "plt.show()\n"
   ]
  }
 ],
 "metadata": {
  "kernelspec": {
   "display_name": "Python 3",
   "language": "python",
   "name": "python3"
  },
  "language_info": {
   "codemirror_mode": {
    "name": "ipython",
    "version": 3
   },
   "file_extension": ".py",
   "mimetype": "text/x-python",
   "name": "python",
   "nbconvert_exporter": "python",
   "pygments_lexer": "ipython3",
   "version": "3.8.8"
  }
 },
 "nbformat": 4,
 "nbformat_minor": 5
}

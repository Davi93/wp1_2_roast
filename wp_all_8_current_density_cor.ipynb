{
 "cells": [
  {
   "cell_type": "code",
   "execution_count": 1,
   "metadata": {},
   "outputs": [],
   "source": [
    "# Author: Davide Aloi - PhD student - University of Birmingham\n",
    "# Description: the script loads the results from wp_all_8_current_density_metrics, which are 3\n",
    "# .csv files, and correlates current density metrics with DCM values.\n",
    "# The analysis method used is Canonical correlation analysis (CCA)\n",
    "# Add details on CCA\n",
    "## WORKING ON THIS AT THE MOMENT (25012022)\n",
    "# Imports\n",
    "import warnings\n",
    "warnings.filterwarnings(\"ignore\")\n",
    "import os\n",
    "import numpy as np\n",
    "import pandas as pd\n",
    "import scipy.stats"
   ]
  },
  {
   "cell_type": "code",
   "execution_count": 2,
   "metadata": {},
   "outputs": [],
   "source": [
    "## Parameters and variables: \n",
    "results_folder = 'D:\\\\roast-chapter3\\\\wp_all_results\\\\' # Folder with results (current density)\n",
    "main_folder = 'C:\\\\Users\\\\davide\\\\Documents\\\\GitHub\\\\wp1_2_roast\\\\' # Project folder\n",
    "dcm_results_folder = 'C:\\\\Users\\\\davide\\\\Documents\\\\GitHub\\\\wp1_2_roast\\\\all_dcm_results\\\\' # Folder with dcm results\n",
    "\n",
    "# Datasets names and subjects lists\n",
    "# db_names = ['wp2a', 'wp1b'] # waiting for wp1a results from Davinia\n",
    "db_names = ['wp2a']"
   ]
  },
  {
   "cell_type": "code",
   "execution_count": 14,
   "metadata": {},
   "outputs": [],
   "source": [
    "from sklearn.cross_decomposition import CCA\n",
    "\n",
    "for db_id, db in enumerate(db_names):\n",
    "\n",
    "    # Loading DCM results (nb: the unthresholded ones, for the correlation analysis)\n",
    "    DCM = np.load(os.path.join(dcm_results_folder, db + '_dcm_unthresholded.npy'))\n",
    "    DCM_sham = np.load(os.path.join(dcm_results_folder, db + '_dcm_sham_unthresholded.npy'))\n",
    "    # Loading current density results\n",
    "    cd_metrics = pd.read_csv(os.path.join(results_folder, db +'_current_density_results.csv'))\n",
    "\n",
    "    # Simple R correlation (example)\n",
    "    #x = cd_metrics['m1_medians'].values # Medians current density in M1\n",
    "    #y = DCM[:, 0, 0] # NB: DCM index related to m1 <-> m1 (of all subjects) = [0,0]\n",
    "    #r,p  = scipy.stats.pearsonr(x, y)    # Pearson's r\n",
    "    #print ('R: ' + str(round(r,3)) + ', p: ' +  str(round(p,3)))\n",
    "\n",
    "    # Extracting DCM values I am interested in (m1<->m1, th<->th, m1->th, th->m1)\n",
    "    m1m1 = DCM[:,0,0]\n",
    "    thth = DCM[:,1,1]\n",
    "    m1th = DCM[:,1,0]\n",
    "    thm1 = DCM[:,0,1]\n",
    "    dcm_df = pd.DataFrame(zip(m1m1, thth, m1th, thm1),\n",
    "                                columns = ['m1m1', 'thth', 'm1th',\n",
    "                                'thm1'])\n",
    "\n",
    "                     \n",
    "    # We first standardise our variables by subtracting with mean and dividing by standard deviation\n",
    "    cd_df_s = (cd_metrics-cd_metrics.mean())/(cd_metrics.std())\n",
    "    dcm_df_s = (dcm_df-dcm_df.mean())/(dcm_df.std())\n",
    "\n",
    "    ''' Damian: Basically your CCA analysis will give you pairs of canonical variates (one of\n",
    "    each pair that describes the current measures, and one that describes the DCM). For each\n",
    "    significant pair, you then correlate the CV from one side with each of the individual\n",
    "    measures from the other side.\n",
    "    This will basically tell you that e.g., Current density overall is most strongly related to\n",
    "    DCM connectivity in pathways X and Y, and that DCM connectivity overall is most strongly\n",
    "    related to current desnity in region A and B. '''\n",
    "\n",
    "    cca = CCA(n_components = 2)\n",
    "    cca.fit(cd_df_s, dcm_df_s)\n",
    "    X_c, Y_c = cca.transform(cd_df_s, dcm_df_s) # X = current measures, Y = DCM measures    \n"
   ]
  },
  {
   "cell_type": "code",
   "execution_count": 24,
   "metadata": {},
   "outputs": [],
   "source": [
    "\n",
    "\n",
    "\n",
    "\n",
    "\n"
   ]
  },
  {
   "cell_type": "code",
   "execution_count": 26,
   "metadata": {},
   "outputs": [
    {
     "data": {
      "text/plain": [
       "array([[ 0.62387259, -0.81923435],\n",
       "       [ 0.25689935, -0.10783622],\n",
       "       [ 0.01079119, -0.54340172],\n",
       "       [ 0.4759515 , -0.27450392],\n",
       "       [-0.1927584 ,  0.63289417],\n",
       "       [ 0.37981979, -1.25618762],\n",
       "       [-0.66263521,  0.69415681],\n",
       "       [-0.62758379, -0.12698738],\n",
       "       [-1.15972746, -0.24444444],\n",
       "       [-0.01204531,  0.24319472],\n",
       "       [-0.51987833, -0.17585071],\n",
       "       [-0.64966614,  0.65427355],\n",
       "       [-0.2287235 , -1.45522025],\n",
       "       [ 0.2413379 , -0.13711494],\n",
       "       [-0.01997095,  0.5911504 ],\n",
       "       [-0.19435387,  0.60016822],\n",
       "       [ 0.92602281, -0.09285578],\n",
       "       [-0.36446197, -1.30240238],\n",
       "       [ 1.16073224,  0.18270058],\n",
       "       [-0.1906962 ,  1.34232807],\n",
       "       [ 0.74707375,  1.59517317]])"
      ]
     },
     "execution_count": 26,
     "metadata": {},
     "output_type": "execute_result"
    }
   ],
   "source": [
    "X_c"
   ]
  },
  {
   "cell_type": "code",
   "execution_count": null,
   "metadata": {},
   "outputs": [],
   "source": [
    "for db_id, db in enumerate(db_names):\n",
    "    "
   ]
  }
 ],
 "metadata": {
  "interpreter": {
   "hash": "2bb2e88c02631c9acdb2cca42b47db8d956c77e5d847ec74ace7cfa2c4442818"
  },
  "kernelspec": {
   "display_name": "Python 3.9.7 64-bit ('neuroimg': conda)",
   "language": "python",
   "name": "python3"
  },
  "language_info": {
   "codemirror_mode": {
    "name": "ipython",
    "version": 3
   },
   "file_extension": ".py",
   "mimetype": "text/x-python",
   "name": "python",
   "nbconvert_exporter": "python",
   "pygments_lexer": "ipython3",
   "version": "3.9.7"
  },
  "orig_nbformat": 4
 },
 "nbformat": 4,
 "nbformat_minor": 2
}

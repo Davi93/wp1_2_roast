{
 "cells": [
  {
   "cell_type": "code",
   "execution_count": 24,
   "metadata": {},
   "outputs": [],
   "source": [
    "# Author: Davide Aloi - PhD student - University of Birmingham\n",
    "# Description: the script loads the results from wp_all_8_current_density_metrics, which are 3\n",
    "# .csv files, and correlates current density metrics with DCM values.\n",
    "# The analysis method used is Canonical correlation analysis (CCA)\n",
    "# Add details on CCA\n",
    "## WORKING ON THIS AT THE MOMENT (25012022)\n",
    "# Imports\n",
    "import warnings\n",
    "warnings.filterwarnings(\"ignore\")\n",
    "import os\n",
    "import numpy as np\n",
    "import pandas as pd\n",
    "import scipy.stats"
   ]
  },
  {
   "cell_type": "code",
   "execution_count": 25,
   "metadata": {},
   "outputs": [],
   "source": [
    "## Parameters and variables: \n",
    "results_folder = 'D:\\\\roast-chapter3\\\\wp_all_results\\\\' # Folder with results (current density)\n",
    "main_folder = 'C:\\\\Users\\\\davide\\\\Documents\\\\GitHub\\\\wp1_2_roast\\\\' # Project folder\n",
    "dcm_results_folder = 'C:\\\\Users\\\\davide\\\\Documents\\\\GitHub\\\\wp1_2_roast\\\\all_dcm_results\\\\' # Folder with dcm results\n",
    "\n",
    "# Datasets names and subjects lists\n",
    "db_names = ['wp2a', 'wp1b'] # waiting for wp1a results from Davinia"
   ]
  },
  {
   "cell_type": "code",
   "execution_count": 26,
   "metadata": {},
   "outputs": [
    {
     "name": "stdout",
     "output_type": "stream",
     "text": [
      "R: -0.029, p: 0.899\n",
      "R: -0.192, p: 0.404\n"
     ]
    }
   ],
   "source": [
    "for db_id, db in enumerate(db_names):\n",
    "\n",
    "    # Loading DCM results (nb: I load the unthresholded ones, for the correlation analysis)\n",
    "    DCM = np.load(os.path.join(dcm_results_folder, db + '_dcm_unthresholded.npy'))\n",
    "    DCM_sham = np.load(os.path.join(dcm_results_folder, db + '_dcm_sham_unthresholded.npy'))\n",
    "    # Loading current density metrics\n",
    "    cd_metrics = pd.read_csv(os.path.join(results_folder, db +'_current_density_results.csv'))\n",
    "\n",
    "    # Simple R correlation (example)\n",
    "    x = cd_metrics['m1_medians'].values # Medians current density in M1\n",
    "    y = DCM[:, 0, 0] # NB: DCM index related to m1 <-> m1 (of all subjects) = [0,0]\n",
    "    r,p  = scipy.stats.pearsonr(x, y)    # Pearson's r\n",
    "    print ('R: ' + str(round(r,3)) + ', p: ' +  str(round(p,3)) )"
   ]
  },
  {
   "cell_type": "code",
   "execution_count": null,
   "metadata": {},
   "outputs": [],
   "source": [
    "for db_id, db in enumerate(db_names):\n",
    "    "
   ]
  }
 ],
 "metadata": {
  "interpreter": {
   "hash": "2bb2e88c02631c9acdb2cca42b47db8d956c77e5d847ec74ace7cfa2c4442818"
  },
  "kernelspec": {
   "display_name": "Python 3.9.7 64-bit ('neuroimg': conda)",
   "language": "python",
   "name": "python3"
  },
  "language_info": {
   "codemirror_mode": {
    "name": "ipython",
    "version": 3
   },
   "file_extension": ".py",
   "mimetype": "text/x-python",
   "name": "python",
   "nbconvert_exporter": "python",
   "pygments_lexer": "ipython3",
   "version": "3.9.7"
  },
  "orig_nbformat": 4
 },
 "nbformat": 4,
 "nbformat_minor": 2
}

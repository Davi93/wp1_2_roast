{
 "cells": [
  {
   "cell_type": "code",
   "execution_count": 165,
   "metadata": {},
   "outputs": [],
   "source": [
    "# Author: Davide Aloi - PhD student - University of Birmingham\n",
    "# Electrode coordinates inter-individual variability.\n",
    "\n",
    "import numpy as np\n",
    "import os\n",
    "import glob\n",
    "\n",
    "## Parameters and variables: \n",
    "coords_folder = 'C:\\\\Users\\\\davide\\\\Documents\\\\GitHub\\\\wp1_2_roast\\\\electrode_coords\\\\'\n",
    "\n",
    "# List of electrodes coordiantes (already in the MNI space)\n",
    "wp1a_elect_anod = np.load(os.path.join(coords_folder, 'wp1a_anod_mni_coords.npy'), allow_pickle = True)\n",
    "wp1a_elect_anod = np.asarray(list(dict(enumerate(wp1a_elect_anod.flatten(), 1))[1].values()))\n",
    "\n",
    "wp2a_elect_anod = np.load(os.path.join(coords_folder, 'wp2a_anod_mni_coords.npy'), allow_pickle = True)\n",
    "wp2a_elect_anod = np.asarray(list(dict(enumerate(wp2a_elect_anod.flatten(), 1))[1].values()))\n",
    "\n",
    "wp1b_elect_cath = np.load(os.path.join(coords_folder, 'wp1b_cath_mni_coords.npy'), allow_pickle = True)\n",
    "wp1b_elect_cath = np.asarray(list(dict(enumerate(wp1b_elect_cath.flatten(), 1))[1].values()))"
   ]
  },
  {
   "cell_type": "code",
   "execution_count": 167,
   "metadata": {},
   "outputs": [
    {
     "name": "stdout",
     "output_type": "stream",
     "text": [
      "average elect position\n",
      "[-47.67993957887996, -20.348977614532817, 70.32529149543156]\n",
      "average distance from mean point (in mm)\n",
      "23.015224847051435\n",
      "19.162455611059638\n",
      "12.747582896945714\n"
     ]
    }
   ],
   "source": [
    "wp1a_mean_point = [np.mean(wp1a_elect_anod[:,0,0]), np.mean(wp1a_elect_anod[:,0,1]),\n",
    "                   np.mean(wp1a_elect_anod[:,0,2])] # x y z mean for wp1a anod\n",
    "wp1a_std_point = [np.std(wp1a_elect_anod[:,0,0]), np.std(wp1a_elect_anod[:,0,1]),\n",
    "                   np.std(wp1a_elect_anod[:,0,2])]\n",
    "\n",
    "wp1a_std_magnitude = np.sqrt(wp1a_std_point[0]**2 + wp1a_std_point[1]**2 + wp1a_std_point[2]**2)\n",
    "\n",
    "print('average elect position')\n",
    "print(wp1a_mean_point)\n",
    "print('average distance from mean point (in mm)')\n",
    "print(wp1a_std_magnitude)\n",
    "\n",
    "dists = []\n",
    "for point in wp1a_elect_anod:\n",
    "    dist = np.linalg.norm(wp1a_mean_point-point)\n",
    "    dists.append(dist)\n",
    "print(np.mean(dists))\n",
    "print(np.std(dists))"
   ]
  },
  {
   "cell_type": "code",
   "execution_count": 168,
   "metadata": {},
   "outputs": [
    {
     "name": "stdout",
     "output_type": "stream",
     "text": [
      "average elect position\n",
      "[40.92291050865536, -91.4834630773181, -19.570283168838138]\n",
      "average distance from mean point (in mm)\n",
      "21.615473698122862\n",
      "19.386361777338966\n",
      "9.560213398892941\n"
     ]
    }
   ],
   "source": [
    "wp1b_mean_point = [np.mean(wp1b_elect_cath[:,0,0]), np.mean(wp1b_elect_cath[:,0,1]),\n",
    "                   np.mean(wp1b_elect_cath[:,0,2])] # x y z mean for wp1a anod\n",
    "wp1b_std_point = [np.std(wp1b_elect_cath[:,0,0]), np.std(wp1b_elect_cath[:,0,1]),\n",
    "                   np.std(wp1b_elect_cath[:,0,2])]\n",
    "\n",
    "wp1b_std_magnitude = np.sqrt(wp1b_std_point[0]**2 + wp1b_std_point[1]**2 + wp1b_std_point[2]**2)\n",
    "\n",
    "print('average elect position')\n",
    "print(wp1b_mean_point)\n",
    "\n",
    "print('average distance from mean point (in mm)')\n",
    "print(wp1b_std_magnitude)\n",
    "\n",
    "\n",
    "# this should give very similar results, but we get the std of the distance as well\n",
    "dists = []\n",
    "for point in wp1b_elect_cath:\n",
    "    dist = np.linalg.norm(wp1b_mean_point-point)\n",
    "    dists.append(dist)\n",
    "print(np.mean(dists))\n",
    "print(np.std(dists))"
   ]
  },
  {
   "cell_type": "code",
   "execution_count": 169,
   "metadata": {},
   "outputs": [
    {
     "name": "stdout",
     "output_type": "stream",
     "text": [
      "average elect position\n",
      "[-57.58827231722799, -19.233482379127633, 48.25523163784634]\n",
      "average distance from mean point (in mm)\n",
      "19.67566752836689\n",
      "16.45523234608223\n",
      "10.786900440964514\n"
     ]
    }
   ],
   "source": [
    "wp2a_mean_point = [np.mean(wp2a_elect_anod[:,0,0]), np.mean(wp2a_elect_anod[:,0,1]),\n",
    "                   np.mean(wp2a_elect_anod[:,0,2])] # x y z mean for wp1a anod\n",
    "wp2a_std_point = [np.std(wp2a_elect_anod[:,0,0]), np.std(wp2a_elect_anod[:,0,1]),\n",
    "                   np.std(wp2a_elect_anod[:,0,2])]\n",
    "\n",
    "wp2a_std_magnitude = np.sqrt(wp2a_std_point[0]**2 + wp2a_std_point[1]**2 + wp2a_std_point[2]**2)\n",
    "\n",
    "print('average elect position')\n",
    "print(wp2a_mean_point)\n",
    "print('average distance from mean point (in mm)')\n",
    "print(wp2a_std_magnitude)\n",
    "\n",
    "dists = []\n",
    "for point in wp2a_elect_anod:\n",
    "    dist = np.linalg.norm(wp2a_mean_point-point)\n",
    "    dists.append(dist)\n",
    "print(np.mean(dists))\n",
    "print(np.std(dists))\n"
   ]
  },
  {
   "cell_type": "code",
   "execution_count": 200,
   "metadata": {},
   "outputs": [],
   "source": [
    "# Comparison between wp1a and wp2a in terms of electrode distance from M1 centroid\n",
    "from nilearn import image\n",
    "main_folder = 'C:\\\\Users\\\\davide\\\\Documents\\\\GitHub\\\\wp1_2_roast\\\\' # Project folder\n",
    "\n",
    "## Loading AAL3 atlas and extracting M1 / Thalamus ROIs (regions of interest)\n",
    "# AAL3 atlas paper: https://www.oxcns.org/papers/607%20Rolls%20Huang%20Lin%20Feng%20Joliot%202020%20AAL3.pdf \n",
    "AAl3_path = os.path.join(main_folder, 'rois', 'AAL3v1_1mm.nii')\n",
    "AAL3_atlas = image.load_img(AAl3_path)\n",
    "\n",
    "## Creating M1, Th and cerebellar masks from the AAL3 atlas. Load MNI template.\n",
    "# AAL3 index for left M1 = 1\n",
    "m1 = image.math_img(\"np.where(img == 1, 1, 0)\", img = AAL3_atlas) \n",
    "m1_narray = m1.get_fdata()\n",
    "\n",
    "def matrix_to_mni(matrix_coord, T):\n",
    "    # From matrix space to MNI space\n",
    "        second_arg = np.array([matrix_coord[0],matrix_coord[1],matrix_coord[2], 1])\n",
    "        second_arg = np.reshape(second_arg,[-1,1])\n",
    "        mni_coord = np.dot(T,second_arg)\n",
    "\n",
    "        return np.reshape(mni_coord[0:3],[1,-1])\n",
    "\n",
    "\n",
    "# centroid of M1 \n",
    "from scipy import ndimage\n",
    "\n",
    "m1_centre_of_mass = ndimage.measurements.center_of_mass(m1_narray)\n",
    "m1_centre_of_mass = matrix_to_mni(m1_centre_of_mass,AAL3_atlas.affine)       \n",
    "\n",
    "dist_wp1a = []\n",
    "for point in wp1a_elect_anod:\n",
    "    dist = np.linalg.norm(point-m1_centre_of_mass)\n",
    "    dist_wp1a.append(dist)\n",
    "\n",
    "print(np.mean(dist_wp1a))\n",
    "print(np.std(dist_wp1a))\n",
    "\n",
    "dist_wp2a = []\n",
    "for point in wp2a_elect_anod:\n",
    "    dist = np.linalg.norm(point-m1_centre_of_mass)\n",
    "    dist_wp2a.append(dist)\n",
    "print(np.mean(dist_wp2a))\n",
    "print(np.std(dist_wp2a))"
   ]
  },
  {
   "cell_type": "code",
   "execution_count": 202,
   "metadata": {},
   "outputs": [
    {
     "data": {
      "text/plain": [
       "[39.16213305179278,\n",
       " 19.53475585151319,\n",
       " 20.987503173105992,\n",
       " 34.74753807206986,\n",
       " 38.6401930834467,\n",
       " 27.027847928100865,\n",
       " 30.264443964112754,\n",
       " 27.57377416418355,\n",
       " 38.936459283376045,\n",
       " 36.66133739234481,\n",
       " 29.517891026896034,\n",
       " 19.429911712494167,\n",
       " 27.869352473385433,\n",
       " 29.711514906033806,\n",
       " 24.92601775832279,\n",
       " 28.90841382757443,\n",
       " 28.193915083358583,\n",
       " 36.809432259472686,\n",
       " 25.9308859645877,\n",
       " 18.752016989016713,\n",
       " 22.4166808092647,\n",
       " 35.95604842109359]"
      ]
     },
     "execution_count": 202,
     "metadata": {},
     "output_type": "execute_result"
    }
   ],
   "source": [
    "dist_wp2a"
   ]
  }
 ],
 "metadata": {
  "kernelspec": {
   "display_name": "Python 3.9.12 ('neuroimg')",
   "language": "python",
   "name": "python3"
  },
  "language_info": {
   "codemirror_mode": {
    "name": "ipython",
    "version": 3
   },
   "file_extension": ".py",
   "mimetype": "text/x-python",
   "name": "python",
   "nbconvert_exporter": "python",
   "pygments_lexer": "ipython3",
   "version": "3.9.12"
  },
  "orig_nbformat": 4,
  "vscode": {
   "interpreter": {
    "hash": "1a04e8d3cf57eb13e3e424f0af4edd4725046eee0d61fcbf258511c525184dd3"
   }
  }
 },
 "nbformat": 4,
 "nbformat_minor": 2
}

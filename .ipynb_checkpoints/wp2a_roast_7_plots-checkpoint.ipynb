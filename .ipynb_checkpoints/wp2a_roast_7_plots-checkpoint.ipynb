{
 "cells": [
  {
   "cell_type": "code",
   "execution_count": null,
   "id": "97f4fa1a",
   "metadata": {},
   "outputs": [],
   "source": [
    "## Wp2a Roast analysis - Plots for publication - Aloi Davide (PhD student - University of Birmingham)\n",
    "# Electric field magnitude maps\n",
    "\n",
    "# Create a figure with multiple axes to plot each Emag map (smoothed)\n",
    "\n",
    "import matplotlib.pyplot as plt\n",
    "import nilearn\n",
    "save_plt = True\n",
    "\n",
    "fig, axes = plt.subplots(nrows = 2, ncols = 11, figsize = (20,5)) # Create Mega plot\n",
    "\n",
    "vmin, vmax = 0, 0.35 # Color map min and max. \n",
    "\n",
    "subject = 0\n",
    "for ax in axes.flatten():\n",
    "    display = plotting.plot_roi(all_emag_maps[subject],\n",
    "              #bg_img = bck_img_map_smoothed,\n",
    "              display_mode = 'z',\n",
    "              annotate = False,\n",
    "              dim = 0.5,\n",
    "              cmap = 'jet',\n",
    "              cut_coords = [28],\n",
    "              threshold = 0.01,\n",
    "              vmin = vmin,\n",
    "              vmax = vmax,\n",
    "              alpha = 0.60,\n",
    "              draw_cross = False,\n",
    "              black_bg = False,\n",
    "              axes = ax)\n",
    "    ax.title.set_text('Subject ' + str(subject + 1))\n",
    "    subject += 1 # Move to next subject\n",
    "\n",
    "    if save_plt:\n",
    "        plt.savefig('e-mag_all.jpg', format='jpg', dpi=400)\n",
    "\n",
    "    \n",
    "    \n",
    "# Colorbar for the above brain plots\n",
    "import matplotlib as mpl\n",
    "\n",
    "fig, ax = plt.subplots(figsize=(10, 1))\n",
    "fig.subplots_adjust(bottom=0.5)\n",
    "\n",
    "cmap = mpl.cm.jet\n",
    "norm = mpl.colors.Normalize(vmin=vmin, vmax=vmax)\n",
    "\n",
    "fig.colorbar(mpl.cm.ScalarMappable(norm=norm, cmap=cmap),\n",
    "             cax=ax, orientation='horizontal', label='E-field magnitude (V/m)')    \n",
    "if save_plt:\n",
    "    plt.savefig('e-mag_all_cbar.jpg', format='jpg', dpi=400)"
   ]
  }
 ],
 "metadata": {
  "kernelspec": {
   "display_name": "Python 3",
   "language": "python",
   "name": "python3"
  },
  "language_info": {
   "codemirror_mode": {
    "name": "ipython",
    "version": 3
   },
   "file_extension": ".py",
   "mimetype": "text/x-python",
   "name": "python",
   "nbconvert_exporter": "python",
   "pygments_lexer": "ipython3",
   "version": "3.8.8"
  }
 },
 "nbformat": 4,
 "nbformat_minor": 5
}

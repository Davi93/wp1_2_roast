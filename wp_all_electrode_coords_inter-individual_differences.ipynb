{
 "cells": [
  {
   "cell_type": "code",
   "execution_count": 165,
   "metadata": {},
   "outputs": [],
   "source": [
    "# Author: Davide Aloi - PhD student - University of Birmingham\n",
    "# Electrode coordinates inter-individual variability.\n",
    "\n",
    "import numpy as np\n",
    "import os\n",
    "import glob\n",
    "\n",
    "## Parameters and variables: \n",
    "coords_folder = 'C:\\\\Users\\\\davide\\\\Documents\\\\GitHub\\\\wp1_2_roast\\\\electrode_coords\\\\'\n",
    "\n",
    "# List of electrodes coordiantes (already in the MNI space)\n",
    "wp1a_elect_anod = np.load(os.path.join(coords_folder, 'wp1a_anod_mni_coords.npy'), allow_pickle = True)\n",
    "wp1a_elect_anod = np.asarray(list(dict(enumerate(wp1a_elect_anod.flatten(), 1))[1].values()))\n",
    "\n",
    "wp2a_elect_anod = np.load(os.path.join(coords_folder, 'wp2a_anod_mni_coords.npy'), allow_pickle = True)\n",
    "wp2a_elect_anod = np.asarray(list(dict(enumerate(wp2a_elect_anod.flatten(), 1))[1].values()))\n",
    "\n",
    "wp1b_elect_cath = np.load(os.path.join(coords_folder, 'wp1b_cath_mni_coords.npy'), allow_pickle = True)\n",
    "wp1b_elect_cath = np.asarray(list(dict(enumerate(wp1b_elect_cath.flatten(), 1))[1].values()))"
   ]
  },
  {
   "cell_type": "code",
   "execution_count": 213,
   "metadata": {},
   "outputs": [
    {
     "name": "stdout",
     "output_type": "stream",
     "text": [
      "average elect position\n",
      "[-47.67993957887996, -20.348977614532817, 70.32529149543156]\n",
      "average distance from mean point (in mm)\n",
      "23.015224847051435\n",
      "[[-52.77677536 -11.39742422  53.2952916 ]]\n",
      "[[-38.6488899   -7.          68.01664948]]\n",
      "[[-40. -24.  76.]]\n",
      "[[-36.90064853 -12.98541123  72.93542325]]\n",
      "[[-39.25526822  -1.75040555  70.90759397]]\n",
      "[[-57.  11.  53.]]\n",
      "[[-47.80292797 -21.          64.89895058]]\n",
      "[[-43. -10.  72.]]\n",
      "[[-64.82131112 -61.02621448  62.        ]]\n",
      "[[-47.60184956 -71.78307688  87.89461935]]\n",
      "[[-37.3941834  -23.01784956  86.69587862]]\n",
      "[[-46. -25.  73.]]\n",
      "[[-39.75004339 -26.66285014  79.11219257]]\n",
      "[[-51.13147873 -25.27029443  79.54389733]]\n",
      "[[-39.45188731 -31.86171073  84.        ]]\n",
      "[[-42. -24.  76.]]\n",
      "[[-30.00915331 -18.          80.6005581 ]]\n",
      "[[-56.42636693  -8.83922851  72.17897862]]\n",
      "[[-64.59220171  -2.          45.26430321]]\n",
      "[[-52. -18.  69.]]\n",
      "[[-57.         -18.52905571  66.8682754 ]]\n",
      "[[-65.39568532 -16.55398607  53.94380081]]\n",
      "19.162455611059638\n",
      "12.747582896945714\n"
     ]
    }
   ],
   "source": [
    "wp1a_mean_point = [np.mean(wp1a_elect_anod[:,0,0]), np.mean(wp1a_elect_anod[:,0,1]),\n",
    "                   np.mean(wp1a_elect_anod[:,0,2])] # x y z mean for wp1a anod\n",
    "wp1a_std_point = [np.std(wp1a_elect_anod[:,0,0]), np.std(wp1a_elect_anod[:,0,1]),\n",
    "                   np.std(wp1a_elect_anod[:,0,2])]\n",
    "\n",
    "wp1a_std_magnitude = np.sqrt(wp1a_std_point[0]**2 + wp1a_std_point[1]**2 + wp1a_std_point[2]**2)\n",
    "\n",
    "print('average elect position')\n",
    "print(wp1a_mean_point)\n",
    "print('average distance from mean point (in mm)')\n",
    "print(wp1a_std_magnitude)\n",
    "\n",
    "dists = []\n",
    "for point in wp1a_elect_anod:\n",
    "    print(point)\n",
    "    dist = np.linalg.norm(wp1a_mean_point-point)\n",
    "    dists.append(dist)\n",
    "print(np.mean(dists))\n",
    "print(np.std(dists))"
   ]
  },
  {
   "cell_type": "code",
   "execution_count": 168,
   "metadata": {},
   "outputs": [
    {
     "name": "stdout",
     "output_type": "stream",
     "text": [
      "average elect position\n",
      "[40.92291050865536, -91.4834630773181, -19.570283168838138]\n",
      "average distance from mean point (in mm)\n",
      "21.615473698122862\n",
      "19.386361777338966\n",
      "9.560213398892941\n"
     ]
    }
   ],
   "source": [
    "wp1b_mean_point = [np.mean(wp1b_elect_cath[:,0,0]), np.mean(wp1b_elect_cath[:,0,1]),\n",
    "                   np.mean(wp1b_elect_cath[:,0,2])] # x y z mean for wp1a anod\n",
    "wp1b_std_point = [np.std(wp1b_elect_cath[:,0,0]), np.std(wp1b_elect_cath[:,0,1]),\n",
    "                   np.std(wp1b_elect_cath[:,0,2])]\n",
    "\n",
    "wp1b_std_magnitude = np.sqrt(wp1b_std_point[0]**2 + wp1b_std_point[1]**2 + wp1b_std_point[2]**2)\n",
    "\n",
    "print('average elect position')\n",
    "print(wp1b_mean_point)\n",
    "\n",
    "print('average distance from mean point (in mm)')\n",
    "print(wp1b_std_magnitude)\n",
    "\n",
    "\n",
    "# this should give very similar results, but we get the std of the distance as well\n",
    "dists = []\n",
    "for point in wp1b_elect_cath:\n",
    "    dist = np.linalg.norm(wp1b_mean_point-point)\n",
    "    dists.append(dist)\n",
    "print(np.mean(dists))\n",
    "print(np.std(dists))"
   ]
  },
  {
   "cell_type": "code",
   "execution_count": 214,
   "metadata": {},
   "outputs": [
    {
     "name": "stdout",
     "output_type": "stream",
     "text": [
      "average elect position\n",
      "[-57.58827231722799, -19.233482379127633, 48.25523163784634]\n",
      "average distance from mean point (in mm)\n",
      "19.67566752836689\n",
      "[[-23.33479691  -4.39206332  85.14565587]]\n",
      "[[-55.19728017 -17.45362818  48.34743947]]\n",
      "[[-57.61112809  -1.36258495  55.08787531]]\n",
      "[[-59.89053166   0.90105325  23.12277919]]\n",
      "[[-64.70750171 -34.87680537  42.00128162]]\n",
      "[[-57.85577673 -22.28529809  60.69052482]]\n",
      "[[-49.62648427 -35.1035952   54.28734452]]\n",
      "[[-65.53141546 -12.29458189  47.56572902]]\n",
      "[[-61.31870103 -35.32253712  34.4460144 ]]\n",
      "[[-54.53256685 -24.21464092  20.78375697]]\n",
      "[[-59.28992856 -28.10112625  52.33129257]]\n",
      "[[-54.18447655 -18.10795116  53.13748956]]\n",
      "[[-56.73686057 -28.43708712  50.40132207]]\n",
      "[[-58.07908159 -28.82563746  42.79472083]]\n",
      "[[-51.68650913 -28.19658184  53.09398472]]\n",
      "[[-65.80842    -16.51363158  51.18706048]]\n",
      "[[-63.65890157  -9.75675559  61.5154649 ]]\n",
      "[[-70.94663572 -24.17250282  44.85577917]]\n",
      "[[-60.31764567 -20.69432318  53.41151154]]\n",
      "[[-52.99326444 -11.58299899  60.21147001]]\n",
      "[[-58.57805574 -14.43483096  42.21619117]]\n",
      "[[-65.05602854  -7.90850359  24.98040783]]\n",
      "16.45523234608223\n",
      "10.786900440964514\n"
     ]
    }
   ],
   "source": [
    "wp2a_mean_point = [np.mean(wp2a_elect_anod[:,0,0]), np.mean(wp2a_elect_anod[:,0,1]),\n",
    "                   np.mean(wp2a_elect_anod[:,0,2])] # x y z mean for wp1a anod\n",
    "wp2a_std_point = [np.std(wp2a_elect_anod[:,0,0]), np.std(wp2a_elect_anod[:,0,1]),\n",
    "                   np.std(wp2a_elect_anod[:,0,2])]\n",
    "\n",
    "wp2a_std_magnitude = np.sqrt(wp2a_std_point[0]**2 + wp2a_std_point[1]**2 + wp2a_std_point[2]**2)\n",
    "\n",
    "print('average elect position')\n",
    "print(wp2a_mean_point)\n",
    "print('average distance from mean point (in mm)')\n",
    "print(wp2a_std_magnitude)\n",
    "\n",
    "dists = []\n",
    "for point in wp2a_elect_anod:\n",
    "    print(point)\n",
    "    dist = np.linalg.norm(wp2a_mean_point-point)\n",
    "    dists.append(dist)\n",
    "print(np.mean(dists))\n",
    "print(np.std(dists))\n"
   ]
  },
  {
   "cell_type": "code",
   "execution_count": 208,
   "metadata": {},
   "outputs": [
    {
     "name": "stdout",
     "output_type": "stream",
     "text": [
      "[-38.43023256  -7.46142938  49.14038571]\n",
      "wp1a\n",
      "32.479054845704404\n",
      "13.238496282116746\n",
      "wp2a\n",
      "29.179912145252146\n",
      "6.485355563969397\n"
     ]
    }
   ],
   "source": [
    "# Comparison between wp1a and wp2a in terms of electrode distance from M1 centroid\n",
    "from nilearn import image\n",
    "main_folder = 'C:\\\\Users\\\\davide\\\\Documents\\\\GitHub\\\\wp1_2_roast\\\\' # Project folder\n",
    "\n",
    "## Loading AAL3 atlas and extracting M1 / Thalamus ROIs (regions of interest)\n",
    "# AAL3 atlas paper: https://www.oxcns.org/papers/607%20Rolls%20Huang%20Lin%20Feng%20Joliot%202020%20AAL3.pdf \n",
    "AAl3_path = os.path.join(main_folder, 'rois', 'AAL3v1_1mm.nii')\n",
    "AAL3_atlas = image.load_img(AAl3_path)\n",
    "\n",
    "## Creating M1, Th and cerebellar masks from the AAL3 atlas. Load MNI template.\n",
    "# AAL3 index for left M1 = 1\n",
    "m1 = image.math_img(\"np.where(img == 1, 1, 0)\", img = AAL3_atlas) \n",
    "m1_narray = m1.get_fdata()\n",
    "\n",
    "def matrix_to_mni(matrix_coord, T):\n",
    "    # From matrix space to MNI space\n",
    "        second_arg = np.array([matrix_coord[0],matrix_coord[1],matrix_coord[2], 1])\n",
    "        second_arg = np.reshape(second_arg,[-1,1])\n",
    "        mni_coord = np.dot(T,second_arg)\n",
    "\n",
    "        return np.reshape(mni_coord[0:3],[1,-1])\n",
    "\n",
    "# centroid of M1 \n",
    "from scipy import ndimage\n",
    "\n",
    "m1_centre_of_mass = ndimage.measurements.center_of_mass(m1_narray)\n",
    "m1_centre_of_mass = matrix_to_mni(m1_centre_of_mass, AAL3_atlas.affine)[0]       \n",
    "print(m1_centre_of_mass)\n",
    "\n",
    "print('wp1a')\n",
    "dist_wp1a = []\n",
    "for point in wp1a_elect_anod:\n",
    "    dist = np.linalg.norm(m1_centre_of_mass-point)\n",
    "    dist_wp1a.append(dist)\n",
    "\n",
    "print(np.mean(dist_wp1a))\n",
    "print(np.std(dist_wp1a))\n",
    "\n",
    "print('wp2a')\n",
    "dist_wp2a = []\n",
    "for point in wp2a_elect_anod:\n",
    "    dist = np.linalg.norm(m1_centre_of_mass-point)\n",
    "    dist_wp2a.append(dist)\n",
    "\n",
    "print(np.mean(dist_wp2a))\n",
    "print(np.std(dist_wp2a))"
   ]
  },
  {
   "cell_type": "code",
   "execution_count": 212,
   "metadata": {},
   "outputs": [
    {
     "data": {
      "text/plain": [
       "24.21790514044155"
      ]
     },
     "execution_count": 212,
     "metadata": {},
     "output_type": "execute_result"
    }
   ],
   "source": [
    "# difference between wp1a average elct pos and wp2a average elect pos\n",
    "dist = np.linalg.norm(np.asarray(wp1a_mean_point)-np.asarray(wp2a_mean_point))\n",
    "dist"
   ]
  }
 ],
 "metadata": {
  "kernelspec": {
   "display_name": "Python 3.9.12 ('neuroimg')",
   "language": "python",
   "name": "python3"
  },
  "language_info": {
   "codemirror_mode": {
    "name": "ipython",
    "version": 3
   },
   "file_extension": ".py",
   "mimetype": "text/x-python",
   "name": "python",
   "nbconvert_exporter": "python",
   "pygments_lexer": "ipython3",
   "version": "3.9.12"
  },
  "orig_nbformat": 4,
  "vscode": {
   "interpreter": {
    "hash": "1a04e8d3cf57eb13e3e424f0af4edd4725046eee0d61fcbf258511c525184dd3"
   }
  }
 },
 "nbformat": 4,
 "nbformat_minor": 2
}

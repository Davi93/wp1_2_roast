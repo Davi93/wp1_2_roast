{
 "cells": [
  {
   "cell_type": "code",
   "execution_count": 17,
   "id": "1b7734ed",
   "metadata": {},
   "outputs": [],
   "source": [
    "# Imports\n",
    "import glob\n",
    "import numpy as np\n",
    "from nilearn import image, plotting\n",
    "from nilearn.image import new_img_like\n",
    "import os\n",
    "import scipy.io"
   ]
  },
  {
   "cell_type": "code",
   "execution_count": 68,
   "id": "3f04240e",
   "metadata": {},
   "outputs": [],
   "source": [
    "main_folder = 'C:\\\\Users\\\\davide\\\\Documents\\\\GitHub\\\\wp1_2_roast' #main folder with data\n",
    "bck_img_map = image.load_img(os.path.join(main_folder, 'MNI152_T1_1mm_Brain.nii')) #Background for plotting purposes\n",
    "#List of subjects\n",
    "subjects = ['01','02','03','04','06','07','08','09','10','11','12','13','14','15','16','17','18','19','20','22','23','24']\n",
    "#subjects = ['01','02']\n",
    "\n",
    "dcm_data_day1_path = os.path.join(main_folder,'Day1_all_EPvalues.mat') #mat file with DCM results of day 1\n",
    "dcm_data_day1 = scipy.io.loadmat(dcm_data_day1_path)\n",
    "#NB this file contains results for all 22 subjects for all 3 polarities (anodal, cathodal and sham)\n",
    "#And the order is anodal, cathodal and sham for each subject (so I'm only interested in matrices 0, 3, 6 ... etc)"
   ]
  },
  {
   "cell_type": "code",
   "execution_count": 70,
   "id": "8cd6fb88",
   "metadata": {},
   "outputs": [],
   "source": [
    "#Loading ROIs\n",
    "m1_path = os.path.join(main_folder,'rois','m1.nii')\n",
    "th_path = os.path.join(main_folder,'rois','th.nii')\n",
    "m1 = image.load_img(m1_path)\n",
    "th = image.load_img(th_path)"
   ]
  },
  {
   "cell_type": "code",
   "execution_count": 71,
   "id": "5ca9c887",
   "metadata": {},
   "outputs": [],
   "source": [
    "#range(0,len(files_with_res['ALLEP'][0]),3) extracting anodal\n",
    "#dcm_data_day1['ALLEP'][0][i].todense().reshape((4,4))"
   ]
  },
  {
   "cell_type": "code",
   "execution_count": 73,
   "id": "2fb23f30",
   "metadata": {},
   "outputs": [
    {
     "name": "stdout",
     "output_type": "stream",
     "text": [
      "Analysing subject: 01\n",
      "Path: D:\\roast-chapter3\\wp2a\\sub-01\n",
      "Analysing subject: 02\n",
      "Path: D:\\roast-chapter3\\wp2a\\sub-02\n",
      "Analysing subject: 03\n",
      "Path: D:\\roast-chapter3\\wp2a\\sub-03\n",
      "Analysing subject: 04\n",
      "Path: D:\\roast-chapter3\\wp2a\\sub-04\n",
      "Analysing subject: 06\n",
      "Path: D:\\roast-chapter3\\wp2a\\sub-06\n",
      "Analysing subject: 07\n",
      "Path: D:\\roast-chapter3\\wp2a\\sub-07\n",
      "Analysing subject: 08\n",
      "Path: D:\\roast-chapter3\\wp2a\\sub-08\n",
      "Analysing subject: 09\n",
      "Path: D:\\roast-chapter3\\wp2a\\sub-09\n",
      "Analysing subject: 10\n",
      "Path: D:\\roast-chapter3\\wp2a\\sub-10\n",
      "Analysing subject: 11\n",
      "Path: D:\\roast-chapter3\\wp2a\\sub-11\n",
      "Analysing subject: 12\n",
      "Path: D:\\roast-chapter3\\wp2a\\sub-12\n",
      "Analysing subject: 13\n",
      "Path: D:\\roast-chapter3\\wp2a\\sub-13\n",
      "Analysing subject: 14\n",
      "Path: D:\\roast-chapter3\\wp2a\\sub-14\n",
      "Analysing subject: 15\n",
      "Path: D:\\roast-chapter3\\wp2a\\sub-15\n",
      "Analysing subject: 16\n",
      "Path: D:\\roast-chapter3\\wp2a\\sub-16\n",
      "Analysing subject: 17\n",
      "Path: D:\\roast-chapter3\\wp2a\\sub-17\n",
      "Analysing subject: 18\n",
      "Path: D:\\roast-chapter3\\wp2a\\sub-18\n",
      "Analysing subject: 19\n",
      "Path: D:\\roast-chapter3\\wp2a\\sub-19\n",
      "Analysing subject: 20\n",
      "Path: D:\\roast-chapter3\\wp2a\\sub-20\n",
      "Analysing subject: 22\n",
      "Path: D:\\roast-chapter3\\wp2a\\sub-22\n",
      "Analysing subject: 23\n",
      "Path: D:\\roast-chapter3\\wp2a\\sub-23\n",
      "Analysing subject: 24\n",
      "Path: D:\\roast-chapter3\\wp2a\\sub-24\n"
     ]
    }
   ],
   "source": [
    "pos_dcm_res = 0 #Position of the DCM results for subject 1, day 1 (anodal)\n",
    "\n",
    "for sbj in subjects:\n",
    "    print('Analysing subject: ' + sbj)\n",
    "    path = 'D:\\\\roast-chapter3\\wp2a\\sub-' + sbj\n",
    "    print('Path: ' + path)\n",
    "    \n",
    "    #Loading ROAST field magnitude simulation\n",
    "    emag_map = image.load_img(glob.glob(path+ '/swsub-*_T1_*_emag.nii')) \n",
    "    emag_data = emag_map.get_fdata() \n",
    "    \n",
    "    #Loading binary map for the subject (c1 = grey matter, c2 = white matter)\n",
    "    anat_map = image.load_img(glob.glob(path+ '/c1c2bin.nii')) #Loading c1/c2 masks\n",
    "    anat_data = anat_map.get_fdata()\n",
    "    \n",
    "    #Emag map masked using c1c2 masks (to keep only values in white/grey matter)\n",
    "    emag_msk = np.where(anat_data > 0, emag_data, 0) \n",
    "    emag_map_msk = new_img_like(emag_map,emag_msk)\n",
    "    \n",
    "    # Resampling ROIs to the dimention of the emag map\n",
    "    m1_resampled = image.resample_to_img(m1,emag_map_msk, interpolation = 'nearest')\n",
    "    th_resampled = image.resample_to_img(th,emag_map_msk, interpolation = 'nearest')\n",
    "    \n",
    "    #Loading DCM results for the subject\n",
    "    this_dcm = dcm_data_day1['ALLEP'][0][pos_dcm_res].todense().reshape((4,4))\n",
    "    #print(this_dcm)\n",
    "    \n",
    "    pos_dcm_res += 3\n",
    "    "
   ]
  },
  {
   "cell_type": "code",
   "execution_count": 58,
   "id": "a8704b94",
   "metadata": {},
   "outputs": [
    {
     "data": {
      "text/plain": [
       "(157, 189, 156)"
      ]
     },
     "execution_count": 58,
     "metadata": {},
     "output_type": "execute_result"
    }
   ],
   "source": []
  },
  {
   "cell_type": "code",
   "execution_count": null,
   "id": "3ad315a2",
   "metadata": {},
   "outputs": [],
   "source": [
    "plotting.plot_roi(mesh_map,\n",
    "                  cmap = 'hot_r',\n",
    "                  threshold = 0, vmax = 0.36, alpha = 0.45,\n",
    "                  black_bg = False)\n",
    "\n",
    "#image.math_img(\"img\", img=mesh_map).to_filename('meshed.nii')\n",
    "\n",
    "\n",
    "import matplotlib.pyplot as plt\n",
    "hist, bins = np.histogram(mesh, bins=50)\n",
    "width = 0.7 * (bins[1] - bins[0])\n",
    "center = (bins[:-1] + bins[1:]) / 2\n",
    "plt.bar(center, hist, align='center', width=width)\n",
    "plt.show()"
   ]
  },
  {
   "cell_type": "code",
   "execution_count": null,
   "id": "47b32b50",
   "metadata": {},
   "outputs": [],
   "source": []
  }
 ],
 "metadata": {
  "kernelspec": {
   "display_name": "Python 3",
   "language": "python",
   "name": "python3"
  },
  "language_info": {
   "codemirror_mode": {
    "name": "ipython",
    "version": 3
   },
   "file_extension": ".py",
   "mimetype": "text/x-python",
   "name": "python",
   "nbconvert_exporter": "python",
   "pygments_lexer": "ipython3",
   "version": "3.8.8"
  }
 },
 "nbformat": 4,
 "nbformat_minor": 5
}

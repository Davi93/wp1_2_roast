{
 "cells": [
  {
   "cell_type": "code",
   "execution_count": 1,
   "metadata": {},
   "outputs": [],
   "source": [
    "# Author: Davide Aloi - PhD student - University of Birmingham (CHBH)\n",
    "\n",
    "# Description: the script extracts DCM values (for the 3 pairwise interactions: Anod vs sham\n",
    "# anod vs cath and cath vs sham) for all three datasets, and saves them in .npy (numpy) files. \n",
    "# These values will then be used in the correlation analysis, to assess the relationship\n",
    "# between current density metrics and effective connectivity changes.\n",
    "# NB The order of the pairwise int is the same for all 3 datasets (AS, AC, CS) however,\n",
    "# for wp2a, there are 2x structures in the all_EPvalues_pairwiseint.mat file, as the file\n",
    "# contains both day1 and day5 pairwise interactions. \n",
    "\n",
    "# I am only interested in Anodal vs Sham for wp2a and wp1a, and in cathodal vs sham for\n",
    "# wp1b.\n",
    "\n",
    "import warnings\n",
    "warnings.filterwarnings(\"ignore\")\n",
    "import os\n",
    "import scipy.io\n",
    "import numpy as np\n",
    "\n",
    "# Output folder\n",
    "output_folder = 'C:\\\\Users\\\\davide\\\\Documents\\\\GitHub\\\\wp1_2_roast\\\\all_dcm_results\\\\'"
   ]
  },
  {
   "cell_type": "code",
   "execution_count": 4,
   "metadata": {},
   "outputs": [],
   "source": [
    "## WP2A DCM RESULTS EXTRACTION for the pairwise interaction (anod vs sham, anod vs cath, cath vs sham)\n",
    "# for Day 1 (pre vs post) and Day5 (pre vs post)\n",
    "\n",
    "# The order of the EP values is (for each subject)\n",
    "# AS d1, AS d5, AC d1, AC d5, CS d1, CS d5 \n",
    "# refer to this script to see how this was generated: wp2a_roast_4_extract_single_dcms_pairwiseint.m\n",
    "\n",
    "# Path to DCM and posterior probability results\n",
    "path_wp2a = 'C:\\\\Users\\\\davide\\\\Documents\\\\GitHub\\\\wp1_2_roast\\\\wp2a_DCMfiles\\\\'\n",
    "\n",
    "# DCM data (EP values)\n",
    "dcm_path = os.path.join(path_wp2a, 'wp2a_all_EPvalues_pairwiseint.mat') \n",
    "dcm_data = scipy.io.loadmat(dcm_path)\n",
    "\n",
    "# Variables where results will be saved\n",
    "all_dcm_matrices_day1 = [] # DCM matrices for the anodal vs sham day 1 pairwise int \n",
    "all_dcm_matrices_day5 = [] # DCM matrices for the anodal vs sham day 5 pairwise int\n",
    "\n",
    "# NB I start from 0 (AS day 1 of subject 1) and I also load AS day 5 (i+1)\n",
    "\n",
    "for i in range(0, 132, 6):\n",
    "    this_dcm_day1 = np.array(dcm_data['ALLEP'][0][i].todense().reshape((4,4))).T # day1 \n",
    "    this_dcm_day5 = np.array(dcm_data['ALLEP'][0][i + 1].todense().reshape((4,4))).T  # day5\n",
    "    # Storing DCM matrices\n",
    "    all_dcm_matrices_day1.append(this_dcm_day1)\n",
    "    all_dcm_matrices_day5.append(this_dcm_day5)\n",
    "\n",
    "np.save(os.path.join(output_folder, 'wp2a_day1_pairwise_dcm_unthresholded'), np.array(all_dcm_matrices_day1))\n",
    "np.save(os.path.join(output_folder, 'wp2a_day5_pairwise_dcm_unthresholded'), np.array(all_dcm_matrices_day5))"
   ]
  },
  {
   "cell_type": "code",
   "execution_count": 3,
   "metadata": {},
   "outputs": [],
   "source": [
    "## UPDATED ON 08/09/2022\n",
    "# WP2A DCM RESULTS EXTRACTION for the pairwise interaction DAY1 PRE VS DAY5 POST\n",
    "\n",
    "# The order of the EP values is (for each subject)\n",
    "# AS, AS , AC \n",
    "\n",
    "# Path to DCM and posterior probability results\n",
    "path_wp2a = 'C:\\\\Users\\\\davide\\\\Documents\\\\GitHub\\\\wp1_2_roast\\\\wp2a_DCMfiles\\\\'\n",
    "\n",
    "# DCM data (EP values)\n",
    "dcm_path = os.path.join(path_wp2a, 'wp2a_all_EPvalues_pairwiseint_day1prevsday5post.mat') \n",
    "dcm_data = scipy.io.loadmat(dcm_path)\n",
    "\n",
    "# Variables where results will be saved\n",
    "all_dcm_matrices_day1preday5post = [] # DCM matrices for the anodal vs sham day 1 pairwise int \n",
    "\n",
    "# NB I start from 0 (AS day 1 of subject 1) and I also load AS day 5 (i+1)\n",
    "for i in range(0, 66,3):\n",
    "    this_dcm_day1preday5post = np.array(dcm_data['ALLEP'][0][i].todense().reshape((4,4))).T # day1 \n",
    "    # Storing DCM matrices\n",
    "    all_dcm_matrices_day1preday5post.append(this_dcm_day1preday5post)\n",
    "\n",
    "np.save(os.path.join(output_folder, 'wp2a_day1pre_VSday5post_pairwise_dcm_unthresholded'), np.array(all_dcm_matrices_day1preday5post))"
   ]
  },
  {
   "cell_type": "code",
   "execution_count": 24,
   "metadata": {},
   "outputs": [],
   "source": [
    "# Wp1a\n",
    "# Path to DCM and posterior probability results\n",
    "path_wp1a = 'C:\\\\Users\\\\davide\\\\Documents\\\\GitHub\\\\wp1_2_roast\\\\wp1a_DCMfiles\\\\'\n",
    "\n",
    "# DCM data (EP values)\n",
    "dcm_path = os.path.join(path_wp1a, 'wp1a_all_EPvalues_pairwiseint.mat') \n",
    "dcm_data = scipy.io.loadmat(dcm_path)\n",
    "\n",
    "# Variables where results will be saved\n",
    "all_dcm_matrices = [] # DCM matrices for the anodal vs sham (pairwise int)\n",
    "\n",
    "# NB I start from 0 here, because I want the pairwise int \"AS\"\n",
    "for i in range(0, 63, 3): \n",
    "    #print(i)\n",
    "    #Loading the DCM\n",
    "    this_dcm = np.array(dcm_data['ALLEP'][0][i].todense().reshape((4,4))).T \n",
    "    # Storing DCM matrices\n",
    "    all_dcm_matrices.append(this_dcm)\n",
    "\n",
    "np.save(os.path.join(output_folder, 'wp1a_pairwise_dcm_unthresholded'), np.array(all_dcm_matrices))\n"
   ]
  },
  {
   "cell_type": "code",
   "execution_count": 25,
   "metadata": {},
   "outputs": [],
   "source": [
    "# Wp1b\n",
    "# Path to DCM and posterior probability results\n",
    "path_wp1b = 'C:\\\\Users\\\\davide\\\\Documents\\\\GitHub\\\\wp1_2_roast\\\\wp1b_DCMfiles\\\\'\n",
    "\n",
    "# DCM data (EP values)\n",
    "dcm_path = os.path.join(path_wp1b, 'wp1b_all_EPvalues_pairwiseint.mat') \n",
    "dcm_data = scipy.io.loadmat(dcm_path)\n",
    "\n",
    "# Variables where results will be saved\n",
    "all_dcm_matrices = [] # DCM matrices for the anodal vs sham (pairwise int)\n",
    "\n",
    "# NB I start from 2 here, because I want the pairwise int \"CS\"\n",
    "for i in range(2, 63, 3): \n",
    "    # print(i)\n",
    "    #Loading the DCM\n",
    "    this_dcm = np.array(dcm_data['ALLEP'][0][i].todense().reshape((4,4))).T \n",
    "    # Storing DCM matrices\n",
    "    all_dcm_matrices.append(this_dcm)\n",
    "\n",
    "np.save(os.path.join(output_folder, 'wp1b_pairwise_dcm_unthresholded'), np.array(all_dcm_matrices))\n"
   ]
  }
 ],
 "metadata": {
  "kernelspec": {
   "display_name": "Python 3.9.12 ('neuroimg')",
   "language": "python",
   "name": "python3"
  },
  "language_info": {
   "codemirror_mode": {
    "name": "ipython",
    "version": 3
   },
   "file_extension": ".py",
   "mimetype": "text/x-python",
   "name": "python",
   "nbconvert_exporter": "python",
   "pygments_lexer": "ipython3",
   "version": "3.9.12"
  },
  "orig_nbformat": 4,
  "vscode": {
   "interpreter": {
    "hash": "1a04e8d3cf57eb13e3e424f0af4edd4725046eee0d61fcbf258511c525184dd3"
   }
  }
 },
 "nbformat": 4,
 "nbformat_minor": 2
}

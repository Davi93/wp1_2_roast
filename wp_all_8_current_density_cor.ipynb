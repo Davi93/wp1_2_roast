{
 "cells": [
  {
   "cell_type": "code",
   "execution_count": 1,
   "metadata": {},
   "outputs": [],
   "source": [
    "# Author: Davide Aloi - PhD student - University of Birmingham\n",
    "# Description: the script loads the results from wp_all_8_current_density_metrics, which are 3\n",
    "# .csv files, and correlates current density metrics with DCM values.\n",
    "# The analysis method used is Canonical correlation analysis (CCA)\n",
    "# Add details on CCA\n",
    "## WORKING ON THIS AT THE MOMENT (25012022)\n",
    "# Imports\n",
    "import warnings\n",
    "warnings.filterwarnings(\"ignore\")\n",
    "import os\n",
    "import numpy as np\n",
    "import pandas as pd\n",
    "import scipy.stats"
   ]
  },
  {
   "cell_type": "code",
   "execution_count": 2,
   "metadata": {},
   "outputs": [],
   "source": [
    "## Parameters and variables: \n",
    "results_folder = 'D:\\\\roast-chapter3\\\\wp_all_results\\\\' # Folder with results (current density)\n",
    "main_folder = 'C:\\\\Users\\\\davide\\\\Documents\\\\GitHub\\\\wp1_2_roast\\\\' # Project folder\n",
    "dcm_results_folder = 'C:\\\\Users\\\\davide\\\\Documents\\\\GitHub\\\\wp1_2_roast\\\\all_dcm_results\\\\' # Folder with dcm results\n",
    "\n",
    "# Datasets names and subjects lists\n",
    "#db_names = ['wp2a', 'wp1b'] # waiting for wp1a results from Davinia\n",
    "db_names = ['wp2a']"
   ]
  },
  {
   "cell_type": "code",
   "execution_count": 3,
   "metadata": {},
   "outputs": [
    {
     "name": "stdout",
     "output_type": "stream",
     "text": [
      "-------- CCA analysis for dataset wp2a ---------\n",
      "Current density metrics\n",
      "   m1_medians    m1_max  th_medians    th_max  cb_medians    cb_max\n",
      "0    1.064099 -0.222754   -0.387600  2.239864   -0.733822 -0.615235\n",
      "1    1.202965  1.111482   -0.967031 -0.837454   -0.063144 -0.028971\n",
      "2   -0.107853  1.544385   -0.503373  0.143153   -0.851981 -1.144642\n",
      "3   -0.665023 -1.268581   -0.250689 -0.461470    0.746472 -1.155159\n",
      "4    0.777813  0.006170    1.643100 -0.504230    2.059322  0.327670\n",
      "\n",
      "DCM values\n",
      "       m1m1      thth      m1th      thm1\n",
      "0  0.300931  1.085120 -1.125615 -0.815612\n",
      "1 -1.533606  0.598047  0.172432 -0.076831\n",
      "2 -2.011669 -1.517923 -0.709467  0.424610\n",
      "3  1.769832  0.171052 -0.640999 -0.924352\n",
      "4 -0.010210  0.366904 -0.165926 -0.092548\n",
      "\n",
      "Correlations between CV pairs\n",
      "r1=0.683, p1=0.00046\n",
      "r2=0.566, p2=0.00607\n",
      "\n",
      "\n",
      "Correlations between first current density variate and DCM measures\n",
      "m1m1: r=0.635, p=0.0015\n",
      "thth: r=0.52, p=0.01304\n",
      "m1th: r=0.173, p=0.44042\n",
      "thm1: r=-0.246, p=0.26965\n",
      "\n",
      "Correlations between first DCM variate and current density measures\n",
      "m1_medians: r=0.06, p=0.78926\n",
      "m1_max: r=-0.265, p=0.23336\n",
      "th_medians: r=0.486, p=0.02193\n",
      "th_max: r=-0.014, p=0.94958\n",
      "cb_medians: r=-0.039, p=0.86448\n",
      "cb_max: r=0.011, p=0.96285\n"
     ]
    },
    {
     "data": {
      "image/png": "[encoded data removed]",
      "text/plain": [
       "<Figure size 432x288 with 1 Axes>"
      ]
     },
     "metadata": {},
     "output_type": "display_data"
    }
   ],
   "source": [
    "from sklearn.cross_decomposition import CCA\n",
    "\n",
    "for db_id, db in enumerate(db_names):\n",
    "    print('-------- CCA analysis for dataset ' + db + ' ---------')\n",
    "\n",
    "    # Loading DCM results (nb: the unthresholded ones, for the correlation analysis)\n",
    "    DCM = np.load(os.path.join(dcm_results_folder, db + '_dcm_unthresholded.npy'))\n",
    "    DCM_sham = np.load(os.path.join(dcm_results_folder, db + '_dcm_sham_unthresholded.npy'))\n",
    "\n",
    "    # Loading current density results\n",
    "    cd_metrics = pd.read_csv(os.path.join(results_folder, db +'_current_density_results.csv'))\n",
    "    cd_metrics.drop('Unnamed: 0', axis = 1, inplace = True) # Dropping participants' id\n",
    "\n",
    "    # Simple R correlation (example)\n",
    "    #x = cd_metrics['m1_medians'].values # Medians current density in M1\n",
    "    #y = DCM[:, 0, 0] # NB: DCM index related to m1 <-> m1 (of all subjects) = [0,0]\n",
    "    #r,p  = scipy.stats.pearsonr(x, y)    # Pearson's r\n",
    "    #print ('R: ' + str(round(r,3)) + ', p: ' +  str(round(p,3)))\n",
    "\n",
    "    # Extracting DCM values I am interested in (m1<->m1, th<->th, m1->th, th->m1)\n",
    "    dcm_df = pd.DataFrame(zip(DCM[:,0,0], DCM[:,1,1], DCM[:,1,0], DCM[:,0,1]),\n",
    "                                columns = ['m1m1', 'thth', 'm1th',\n",
    "                                'thm1'])\n",
    "\n",
    "    # We first standardise our variables by subtracting with mean and dividing by standard deviation\n",
    "    cd_df_s = (cd_metrics-cd_metrics.mean())/(cd_metrics.std())\n",
    "    dcm_df_s = (dcm_df-dcm_df.mean())/(dcm_df.std())\n",
    "\n",
    "    print('Current density metrics')\n",
    "    print(cd_df_s.head())\n",
    "    print('\\nDCM values')\n",
    "    print(dcm_df_s.head())\n",
    "\n",
    "    ''' Damian: Basically your CCA analysis will give you pairs of canonical variates (one of\n",
    "    each pair that describes the current measures, and one that describes the DCM). For each\n",
    "    significant pair, you then correlate the CV from one side with each of the individual\n",
    "    measures from the other side.\n",
    "    This will basically tell you that e.g., Current density overall is most strongly related to\n",
    "    DCM connectivity in pathways X and Y, and that DCM connectivity overall is most strongly\n",
    "    related to current density in region A and B. '''\n",
    "\n",
    "    # CCA using scikit-learn (X = current measures, Y = DCM measures)\n",
    "    cca = CCA(n_components = 2, max_iter = 2000)\n",
    "    cca.fit(cd_df_s, dcm_df_s)\n",
    "    X_c, Y_c = cca.transform(cd_df_s, dcm_df_s)    \n",
    "\n",
    "    # Dataframe containing Canonical Variates (CV)\n",
    "    cc_res = pd.DataFrame({\"CCX_1\":X_c[:, 0],\n",
    "                           \"CCY_1\":Y_c[:, 0],\n",
    "                           \"CCX_2\":X_c[:, 1],\n",
    "                           \"CCY_2\":Y_c[:, 1]})\n",
    "\n",
    "    # Correlation between pairs of canonical variates \n",
    "    r1,p1  = scipy.stats.pearsonr(X_c[:, 0], Y_c[:, 0])\n",
    "    r2,p2  = scipy.stats.pearsonr(X_c[:, 1], Y_c[:, 1])\n",
    "\n",
    "    print('\\nCorrelations between CV pairs')\n",
    "    print('r1=' + str(round(r1,3)) + ', p1=' +  str(round(p1,5)))\n",
    "    print('r2=' + str(round(r2,3)) + ', p2=' +  str(round(p2,5)))\n",
    "    print('\\n')\n",
    "\n",
    "    ## Ploting correlation between 1st pair of CVs\n",
    "    import matplotlib.pyplot as plt\n",
    "    from numpy.polynomial.polynomial import polyfit\n",
    "    \n",
    "    x, y = X_c[:,0], Y_c[:,0]\n",
    "    b, m = polyfit(x, y, 1)\n",
    "\n",
    "    plt.rcParams['figure.facecolor'] = 'white'\n",
    "    plt.plot(x, y, '.')\n",
    "    plt.xlabel('Current density canonical variate')\n",
    "    plt.ylabel('DCM canonical variate')\n",
    "    plt.plot(x, b + m * x, '-')\n",
    "    plt.tick_params(axis='both', which='major', labelsize=11)\n",
    "    plt.text(-1, 1.9, 'r = ' + str(round(r1, 4)) + ' \\np = ' + str(round(p1,4)), horizontalalignment='center',\n",
    "                        verticalalignment='center', fontsize = 12)\n",
    "\n",
    "    # Correlation of DCM values with first current density CV (X_c[:,0])    \n",
    "    r_list_dcm = [] # list of R\n",
    "    p_list_dcm = [] # list of p values\n",
    "\n",
    "    print('Correlations between first current density variate and DCM measures')\n",
    "    for DCM_measure in dcm_df_s:\n",
    "        r, p = scipy.stats.pearsonr(X_c[:, 0], dcm_df_s[DCM_measure])\n",
    "        print(DCM_measure +': r=' + str(round(r,3)) + ', p=' +  str(round(p,5)))\n",
    "        r_list_dcm.append(r)\n",
    "        p_list_dcm.append(p)\n",
    "\n",
    "\n",
    "    # Correlation of Current density values with first DCM covariate (Y_c[:,0])\n",
    "    r_list_cd = [] # list of R\n",
    "    p_list_cd = [] # list of p values\n",
    "\n",
    "    print('\\nCorrelations between first DCM variate and current density measures')\n",
    "    for CD_measure in cd_df_s:\n",
    "        r, p = scipy.stats.pearsonr(Y_c[:, 0], cd_df_s[CD_measure])\n",
    "        print(CD_measure +': r=' + str(round(r,3)) + ', p=' +  str(round(p,5)))\n",
    "        r_list_cd.append(r)\n",
    "        p_list_cd.append(p)"
   ]
  },
  {
   "cell_type": "code",
   "execution_count": 7,
   "metadata": {},
   "outputs": [
    {
     "name": "stdout",
     "output_type": "stream",
     "text": [
      "  measure         r         p  rank      sig\n",
      "0    m1m1  0.635039  0.001497     3      sig\n",
      "1    thth  0.520365  0.013039     2      sig\n",
      "2    thm1 -0.246067  0.269651     1  not-sig\n",
      "3    m1th  0.173347  0.440423     0  not-sig\n"
     ]
    },
    {
     "data": {
      "image/png": "[encoded data removed]",
      "text/plain": [
       "<Figure size 432x288 with 1 Axes>"
      ]
     },
     "metadata": {},
     "output_type": "display_data"
    }
   ],
   "source": [
    "import seaborn as sns\n",
    "\n",
    "df_cor = pd.DataFrame({\"measure\": dcm_df_s.columns,\n",
    "                            \"r\": r_list_dcm,\n",
    "                           \"p\":p_list_dcm})\n",
    "                     \n",
    "df_cor = df_cor.sort_values(by=['p']).reset_index(drop=True)\n",
    "df_cor['rank'] = np.flip(df_cor.index.values)\n",
    "df_cor['sig'] =  np.where(df_cor['p']<0.05, 'sig', 'not-sig')\n",
    "print(df_cor)\n",
    "\n",
    "ax = sns.scatterplot('r', # Horizontal axis\n",
    "           'rank', # Vertical axis\n",
    "           data = df_cor, # Data source\n",
    "           size = 10,\n",
    "           hue = 'sig',\n",
    "           palette = ['red','gray'],\n",
    "           legend = False,\n",
    "           \n",
    "           ) \n",
    "\n",
    "ax.set_xticks(np.arange(-1,1,0.2))\n",
    "\n",
    "plt.xlim(-0.6,0.8)\n",
    "sns.despine(left=True)\n",
    "plt.gca().axes.get_yaxis().set_visible(False)\n",
    "plt.axvline(x=0, color='k', linestyle='--', alpha = 0.4, linewidth = 1)\n",
    "\n",
    "# Plotting measures' names\n",
    "for i, measure in enumerate (df_cor.measure):\n",
    "    plt.text(df_cor.r[i]+0.08, df_cor['rank'].values[i]+0.01, measure, fontdict={'size': 12})"
   ]
  },
  {
   "cell_type": "code",
   "execution_count": 9,
   "metadata": {},
   "outputs": [
    {
     "name": "stdout",
     "output_type": "stream",
     "text": [
      "      measure         r         p  rank      sig\n",
      "0  th_medians  0.485694  0.021930     5      sig\n",
      "1      m1_max -0.264977  0.233357     4  not-sig\n",
      "2  m1_medians  0.060458  0.789265     3  not-sig\n",
      "3  cb_medians -0.038628  0.864484     2  not-sig\n",
      "4      th_max -0.014316  0.949581     1  not-sig\n",
      "5      cb_max  0.010545  0.962851     0  not-sig\n"
     ]
    },
    {
     "data": {
      "image/png": "[encoded data removed]",
      "text/plain": [
       "<Figure size 432x288 with 1 Axes>"
      ]
     },
     "metadata": {},
     "output_type": "display_data"
    }
   ],
   "source": [
    "df_cor = pd.DataFrame({\"measure\": cd_df_s.columns,\n",
    "                            \"r\": r_list_cd,\n",
    "                           \"p\":p_list_cd})\n",
    "                     \n",
    "df_cor = df_cor.sort_values(by=['p']).reset_index(drop=True)\n",
    "\n",
    "df_cor['rank'] = np.flip(df_cor.index.values)\n",
    "\n",
    "df_cor['sig'] =  np.where(df_cor['p']<0.05, 'sig', 'not-sig')\n",
    "\n",
    "print(df_cor)\n",
    "\n",
    "ax = sns.scatterplot('r', # Horizontal axis\n",
    "           'rank', # Vertical axis\n",
    "           data = df_cor, # Data source\n",
    "           size = 10,\n",
    "           hue = 'sig',\n",
    "           palette = ['red','gray'],\n",
    "           legend = False,) \n",
    "\n",
    "ax.set_xticks(np.arange(-1,1,0.2))\n",
    "\n",
    "plt.xlim(-0.6,0.8)\n",
    "sns.despine(left=True)\n",
    "plt.gca().axes.get_yaxis().set_visible(False)\n",
    "plt.axvline(x=0, color='k', linestyle='--', alpha = 0.4, linewidth = 1)\n",
    "\n",
    "# Plotting measures' names\n",
    "for i, measure in enumerate (df_cor.measure):\n",
    "    plt.text(df_cor.r[i]+0.08, df_cor['rank'].values[i]+0.01, measure, fontdict={'size': 12})"
   ]
  }
 ],
 "metadata": {
  "interpreter": {
   "hash": "2bb2e88c02631c9acdb2cca42b47db8d956c77e5d847ec74ace7cfa2c4442818"
  },
  "kernelspec": {
   "display_name": "Python 3.9.7 64-bit ('neuroimg': conda)",
   "language": "python",
   "name": "python3"
  },
  "language_info": {
   "codemirror_mode": {
    "name": "ipython",
    "version": 3
   },
   "file_extension": ".py",
   "mimetype": "text/x-python",
   "name": "python",
   "nbconvert_exporter": "python",
   "pygments_lexer": "ipython3",
   "version": "3.9.7"
  },
  "orig_nbformat": 4
 },
 "nbformat": 4,
 "nbformat_minor": 2
}

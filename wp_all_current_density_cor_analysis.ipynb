{
 "cells": [
  {
   "cell_type": "code",
   "execution_count": null,
   "metadata": {},
   "outputs": [],
   "source": [
    "# Author: Davide Aloi - PhD student - University of Birmingham\n",
    "\n",
    "# Description: the script calculates median and max current density values for all three\n",
    "# datasets (wp2a, wp1a and wp1b), for three ROIs: left M1, left Th and right CB. \n",
    "# generated using ROAST. The script then correlates measures derived from each subject's current density map\n",
    "# (i.e. median and max values of the current density in M1 and Thalamus) with DCM measures (i.e. self connectivity in M1,\n",
    "# thalamo-cortical connectivity, etc).\n",
    "\n",
    "\n"
   ]
  }
 ],
 "metadata": {
  "language_info": {
   "name": "python"
  },
  "orig_nbformat": 4
 },
 "nbformat": 4,
 "nbformat_minor": 2
}

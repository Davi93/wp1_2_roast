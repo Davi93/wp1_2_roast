{
 "cells": [
  {
   "cell_type": "code",
   "execution_count": 42,
   "metadata": {},
   "outputs": [],
   "source": [
    "# Author: Davide Aloi - PhD student - University of Birmingham\n",
    "# Electrode coordinates plotted over MNI brain.\n",
    "\n",
    "import numpy as np\n",
    "import os\n",
    "import glob\n",
    "import nilearn\n",
    "from nilearn import image\n",
    "import matplotlib.pyplot as plt\n",
    "\n",
    "\n",
    "## Parameters and variables: \n",
    "mni_path = 'C:\\\\Users\\\\davide\\\\Documents\\\\GitHub\\\\wp1_2_roast\\\\rois\\\\MNI152_T1_1mm_Brain.nii'\n",
    "coords_folder = 'C:\\\\Users\\\\davide\\\\Documents\\\\GitHub\\\\wp1_2_roast\\\\electrode_coords\\\\'\n",
    "mni = image.load_img(mni_path)\n",
    "# Datasets names and subjects lists\n",
    "db_names = ['wp2a','wp1a','wp1b']\n",
    "\n",
    "# List of electrodes coordiantes (already in the MNI space)\n",
    "wp1a_elect_anod = np.load(os.path.join(coords_folder, 'wp1a_anod_mni_coords.npy'), allow_pickle = True)\n",
    "wp1a_elect_anod = np.asarray(list(dict(enumerate(wp1a_elect_anod.flatten(), 1))[1].values()))\n",
    "\n",
    "wp2a_elect_anod = np.load(os.path.join(coords_folder, 'wp2a_anod_mni_coords.npy'), allow_pickle = True)\n",
    "wp2a_elect_anod = np.asarray(list(dict(enumerate(wp2a_elect_anod.flatten(), 1))[1].values()))\n",
    "\n",
    "wp1b_elect_cath = np.load(os.path.join(coords_folder, 'wp1b_cath_mni_coords.npy'), allow_pickle = True)\n",
    "wp1b_elect_cath = np.asarray(list(dict(enumerate(wp1b_elect_cath.flatten(), 1))[1].values()))"
   ]
  },
  {
   "cell_type": "code",
   "execution_count": 43,
   "metadata": {},
   "outputs": [],
   "source": [
    "# Function to convert coordinates from world to matrix space\n",
    "def w_to_matrix(mni_coords, T):\n",
    "    first_arg = np.transpose(np.linalg.inv(T))\n",
    "    second_arg = (np.array([mni_coords[0],mni_coords[1],mni_coords[2], 1]))\n",
    "    mat_coord = np.dot(second_arg,first_arg)\n",
    "    mat_coord = mat_coord[0:3]\n",
    "    mat_coord = np.round(mat_coord[:])\n",
    "    return mat_coord\n",
    "    "
   ]
  },
  {
   "cell_type": "code",
   "execution_count": 44,
   "metadata": {},
   "outputs": [],
   "source": [
    "sphere = np.zeros(mni.shape)\n",
    "for point in wp1a_elect_anod:\n",
    "    center = w_to_matrix((point[0]), mni.affine)\n",
    "    distance = np.linalg.norm(np.subtract(np.indices(mni.get_fdata().shape).T,np.asarray(center)), axis=len(center))\n",
    "    sphere = np.where(distance.T < 2, 1, sphere)\n",
    "\n",
    "for point in wp2a_elect_anod:\n",
    "    center = w_to_matrix((point[0]), mni.affine)\n",
    "    distance = np.linalg.norm(np.subtract(np.indices(mni.get_fdata().shape).T,np.asarray(center)), axis=len(center))\n",
    "    sphere = np.where(distance.T < 2, 2, sphere)\n",
    "\n",
    "for point in wp1b_elect_cath:\n",
    "    center = w_to_matrix((point[0]), mni.affine)\n",
    "    distance = np.linalg.norm(np.subtract(np.indices(mni.get_fdata().shape).T,np.asarray(center)), axis=len(center))\n",
    "    sphere = np.where(distance.T < 2, 3, sphere)"
   ]
  },
  {
   "cell_type": "code",
   "execution_count": 45,
   "metadata": {},
   "outputs": [],
   "source": [
    "from nilearn.image import new_img_like\n",
    "# you can open this as an overlay on mricrogl to show where we extracted the data from.\n",
    "new_img_like(mni, sphere).to_filename('testsphere.nii')"
   ]
  }
 ],
 "metadata": {
  "kernelspec": {
   "display_name": "Python 3.9.12 ('neuroimg')",
   "language": "python",
   "name": "python3"
  },
  "language_info": {
   "codemirror_mode": {
    "name": "ipython",
    "version": 3
   },
   "file_extension": ".py",
   "mimetype": "text/x-python",
   "name": "python",
   "nbconvert_exporter": "python",
   "pygments_lexer": "ipython3",
   "version": "3.9.12"
  },
  "orig_nbformat": 4,
  "vscode": {
   "interpreter": {
    "hash": "1a04e8d3cf57eb13e3e424f0af4edd4725046eee0d61fcbf258511c525184dd3"
   }
  }
 },
 "nbformat": 4,
 "nbformat_minor": 2
}

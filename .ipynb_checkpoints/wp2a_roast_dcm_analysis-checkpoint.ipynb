{
 "cells": [
  {
   "cell_type": "code",
   "execution_count": 2,
   "id": "d824bfd0",
   "metadata": {},
   "outputs": [],
   "source": [
    "import glob\n",
    "import numpy as np\n",
    "from nilearn import image, plotting\n",
    "from nilearn.image import new_img_like\n",
    "import os"
   ]
  },
  {
   "cell_type": "code",
   "execution_count": 3,
   "id": "95c011ec",
   "metadata": {},
   "outputs": [],
   "source": [
    "main_folder = 'C:\\\\Users\\\\davide\\\\Documents\\\\GitHub\\\\wp1_2_roast'\n",
    "bck_img_map = image.load_img(os.path.join(main_folder, 'MNI152_T1_1mm_Brain.nii'))\n",
    "subjects = ['01','02','03','04','06','07','09','10','11','12','13','14','15','16','17','18','19','20','22','23','24']\n",
    "subjects = ['01']"
   ]
  },
  {
   "cell_type": "code",
   "execution_count": 10,
   "id": "69c472e4",
   "metadata": {},
   "outputs": [
    {
     "name": "stdout",
     "output_type": "stream",
     "text": [
      "Analysing subject: 01\n",
      "Path: D:\\roast-chapter3\\wp2a\\sub-01\n"
     ]
    }
   ],
   "source": [
    "for sbj in subjects:\n",
    "    print('Analysing subject: ' + sbj)\n",
    "    path = 'D:\\\\roast-chapter3\\wp2a\\sub-' + sbj\n",
    "    print('Path: ' + path)\n",
    "    \n",
    "    emag_map = image.load_img(glob.glob(path+ '/swsub-*_T1_*_emag.nii')) #Loading ROAST field magnitude simulation\n",
    "    emag_data = emag_map.get_fdata() \n",
    "    anat_map = image.load_img(glob.glob(path+ '/c1c2bin.nii')) #Loading c1/c2 masks\n",
    "    anat_data = anat_map.get_fdata()"
   ]
  },
  {
   "cell_type": "code",
   "execution_count": null,
   "id": "687c5226",
   "metadata": {},
   "outputs": [],
   "source": [
    "\n",
    "\n",
    "\n",
    "\n",
    "\n",
    "\n",
    "\n",
    "\n",
    "mesh = np.where(anat_data > 0, emag_data, 0)\n",
    "\n",
    "\n",
    "#mesh = np.where(mesh >= 0.26, 0.26, mesh)\n",
    "mesh_map = new_img_like(emag_map,mesh)\n",
    "\n",
    "plotting.plot_roi(mesh_map,\n",
    "                  cmap = 'hot_r',\n",
    "                  threshold = 0, vmax = 0.36, alpha = 0.45,\n",
    "                  black_bg = False)\n",
    "\n",
    "#image.math_img(\"img\", img=mesh_map).to_filename('meshed.nii')\n",
    "\n",
    "\n",
    "import matplotlib.pyplot as plt\n",
    "hist, bins = np.histogram(mesh, bins=50)\n",
    "width = 0.7 * (bins[1] - bins[0])\n",
    "center = (bins[:-1] + bins[1:]) / 2\n",
    "plt.bar(center, hist, align='center', width=width)\n",
    "plt.show()"
   ]
  },
  {
   "cell_type": "code",
   "execution_count": null,
   "id": "731d1422",
   "metadata": {},
   "outputs": [],
   "source": []
  }
 ],
 "metadata": {
  "kernelspec": {
   "display_name": "Python 3",
   "language": "python",
   "name": "python3"
  },
  "language_info": {
   "codemirror_mode": {
    "name": "ipython",
    "version": 3
   },
   "file_extension": ".py",
   "mimetype": "text/x-python",
   "name": "python",
   "nbconvert_exporter": "python",
   "pygments_lexer": "ipython3",
   "version": "3.8.8"
  }
 },
 "nbformat": 4,
 "nbformat_minor": 5
}

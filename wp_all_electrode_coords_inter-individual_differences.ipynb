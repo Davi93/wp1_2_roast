{
 "cells": [
  {
   "cell_type": "code",
   "execution_count": 15,
   "metadata": {},
   "outputs": [],
   "source": [
    "# Author: Davide Aloi - PhD student - University of Birmingham\n",
    "# Electrode coordinates inter-individual variability.\n",
    "\n",
    "import numpy as np\n",
    "import os\n",
    "import glob\n",
    "\n",
    "## Parameters and variables: \n",
    "coords_folder = 'C:\\\\Users\\\\davide\\\\Documents\\\\GitHub\\\\wp1_2_roast\\\\electrode_coords\\\\'\n",
    "\n",
    "# List of electrodes coordiantes (already in the MNI space)\n",
    "wp1a_elect_anod = np.load(os.path.join(coords_folder, 'wp1a_anod_mni_coords.npy'), allow_pickle = True)\n",
    "wp1a_elect_anod = dict(enumerate(wp1a_elect_anod.flatten(), 1))[1]\n",
    "\n",
    "wp2a_elect_anod = np.load(os.path.join(coords_folder, 'wp2a_anod_mni_coords.npy'), allow_pickle = True)\n",
    "wp2a_elect_anod = dict(enumerate(wp2a_elect_anod.flatten(), 1))[1]\n",
    "\n",
    "wp1b_elect_cath = np.load(os.path.join(coords_folder, 'wp1b_cath_mni_coords.npy'), allow_pickle = True)\n",
    "wp1b_elect_cath = dict(enumerate(wp1b_elect_cath.flatten(), 1))[1]"
   ]
  },
  {
   "cell_type": "code",
   "execution_count": null,
   "metadata": {},
   "outputs": [],
   "source": [
    "..."
   ]
  }
 ],
 "metadata": {
  "kernelspec": {
   "display_name": "Python 3.9.12 ('neuroimg')",
   "language": "python",
   "name": "python3"
  },
  "language_info": {
   "codemirror_mode": {
    "name": "ipython",
    "version": 3
   },
   "file_extension": ".py",
   "mimetype": "text/x-python",
   "name": "python",
   "nbconvert_exporter": "python",
   "pygments_lexer": "ipython3",
   "version": "3.9.12"
  },
  "orig_nbformat": 4,
  "vscode": {
   "interpreter": {
    "hash": "1a04e8d3cf57eb13e3e424f0af4edd4725046eee0d61fcbf258511c525184dd3"
   }
  }
 },
 "nbformat": 4,
 "nbformat_minor": 2
}

{
 "cells": [
  {
   "cell_type": "code",
   "execution_count": 1,
   "id": "57cb1ccb",
   "metadata": {},
   "outputs": [],
   "source": [
    "## Wp2a Roast SVM analysis - Aloi Davide (PhD student - University of Birmingham)\n",
    "\n",
    "# Imports\n",
    "import warnings\n",
    "warnings.filterwarnings(\"ignore\")\n",
    "import os\n",
    "import glob\n",
    "import numpy as np\n",
    "from nilearn import image, plotting\n",
    "from nilearn.image import new_img_like\n",
    "from scipy import ndimage\n",
    "import scipy.io\n",
    "from ipywidgets import IntProgress\n",
    "from IPython.display import display\n",
    "import time\n",
    "\n",
    "results_folder = 'D:\\\\roast-chapter3\\\\wp2a_results\\\\' # where wp2a e-field maps, current density maps and brain masks were saved\n",
    "\n",
    "emag_scans = image.load_img(os.path.join(results_folder + 'wp2a_all_emag_maps.nii'))\n",
    "cd_scans = image.load_img(os.path.join(results_folder + 'wp2a_all_cd_maps.nii'))\n",
    "mask_scans = image.load_img(os.path.join(results_folder + 'wp2a_all_masks_maps.nii'))"
   ]
  },
  {
   "cell_type": "code",
   "execution_count": 11,
   "id": "39990efc",
   "metadata": {},
   "outputs": [],
   "source": [
    "## Parameters and variables: \n",
    "main_folder = 'C:\\\\Users\\\\davide\\\\Documents\\\\GitHub\\\\wp1_2_roast\\\\' \n",
    "output_folder = 'D:\\\\roast-chapter3\\\\wp2a_results\\\\' # where to save e-field maps, current density maps and brain masks\n",
    "verbose = False # Print each subject's output or not\n",
    "\n",
    "# List of subjects\n",
    "subjects = ['01','02','03','04','06','07','08','09','10','11','12','13','14','15','16','17','18','19','20','22','23','24']\n",
    "#subjects = ['01','02']\n",
    "\n",
    "## Loading DCM results \n",
    "# Day1_all_EPvalues.mat file contains 66 DCM matrices (anodal, cathodal and sham, per participant (N=22)).\n",
    "# This are the results of the comparison Day-1 pre < Day-1 post, per subject, per stimulation condition (anodal, cathodal, sham)\n",
    "# Connections in the matrix are (in this order): M1, Th, SMA, Cerebellum.\n",
    "# The DCM quantifies the change in effective connectivity after stimulation as compared to pre stimulation.\n",
    "# NB: I am interested only in anodal (indexes 0, 3, 6 ... 63) and sham (indexes 2, 5, 8... 65)\n",
    "# NB: Each structure in the Day1_all_EPvalues.mat file contains an array of size 16. To get the DCM matrix,\n",
    "# each array has to be reshaped (4,4) and transposed, because the DCM \"thinks\" columns (from) by rows (to) (rather than \n",
    "# rows x columns like everyone else in the world).\n",
    "# NB: The Day_1_all_EPvalues.mat file was created with the script wp2a_roast_4_extract_single_dcms.m\n",
    "\n",
    "dcm_data_day1_path = os.path.join(main_folder, 'wp2a_DCMfiles', 'Day1_all_EPvalues.mat') \n",
    "dcm_data_day1 = scipy.io.loadmat(dcm_data_day1_path)\n",
    "\n",
    "## Loading AAL3 atlas and extracting M1 / Thalamus ROIs (regions of interest)\n",
    "# AAL3 atlas paper: https://www.oxcns.org/papers/607%20Rolls%20Huang%20Lin%20Feng%20Joliot%202020%20AAL3.pdf \n",
    "AAl3_path = os.path.join(main_folder, 'rois', 'AAL3v1_1mm.nii')\n",
    "AAL3_atlas = image.load_img(AAl3_path)\n",
    "\n",
    "## Creating M1 and Th masks from the AAL3 atlas. Loading MNI template\n",
    "# AAL3 index for left M1 = 1\n",
    "m1 = image.math_img(\"np.where(img == 1, 1, 0)\", img = AAL3_atlas) \n",
    "# AAL3 index for TH = 121 - 149 (odd values only (left thalamus))\n",
    "th = image.math_img(\"np.where(np.isin(img, np.arange(121, 150, 2)), 1, 0)\", img = AAL3_atlas) \n",
    "\n",
    "# MNI template for plotting and masking purposes\n",
    "bg_img_map = image.load_img(os.path.join(main_folder, 'rois', 'MNI152_T1_1mm_Brain.nii'))\n",
    "bg_img_map_smoothed = image.smooth_img(bg_img_map, fwhm=4) # MNI template smoothed (plotting purposes only)\n",
    "\n",
    "## Lists where I will store each subject's results\n",
    "all_dcm_matrices = np.zeros([4,4,22]) # DCM matrices for the anodal condition\n",
    "all_dcm_matrices_sham = np.zeros([4,4,22]) # DCM matrices for the sham condition\n",
    "thm1_labels = np.zeros([22])"
   ]
  },
  {
   "cell_type": "code",
   "execution_count": 32,
   "id": "ef272252",
   "metadata": {},
   "outputs": [],
   "source": [
    "pos_dcm_res = 0\n",
    "\n",
    "for sbj in subjects: \n",
    "    # Loading DCM results\n",
    "    # Transposing is needed because the PEB lists values column by row and not row by column...\n",
    "    this_dcm = np.array(dcm_data_day1['ALLEP'][0][pos_dcm_res].todense().reshape((4,4))).T # Anodal\n",
    "    this_dcm_sham = np.array(dcm_data_day1['ALLEP'][0][pos_dcm_res + 2].todense().reshape((4,4))).T  # Sham\n",
    "    \n",
    "    # Storing DCM matrices\n",
    "    all_dcm_matrices[:,:,pos_dcm_res] = this_dcm\n",
    "    all_dcm_matrices_sham[:,:,pos_dcm_res] = this_dcm_sham\n",
    "    \n",
    "    if this_dcm[0,1]>0: # thalamo to m1\n",
    "            thm1_labels[pos_dcm_res] = 1\n",
    "    \n",
    "    pos_dcm_res += 1 "
   ]
  },
  {
   "cell_type": "code",
   "execution_count": 33,
   "id": "fd13607e",
   "metadata": {},
   "outputs": [
    {
     "data": {
      "text/plain": [
       "array([0., 0., 1., 1., 0., 0., 1., 0., 1., 0., 0., 1., 0., 0., 0., 0., 0.,\n",
       "       1., 0., 0., 0., 1.])"
      ]
     },
     "execution_count": 33,
     "metadata": {},
     "output_type": "execute_result"
    }
   ],
   "source": [
    "thm1_labels"
   ]
  },
  {
   "cell_type": "code",
   "execution_count": 136,
   "id": "35b2defd",
   "metadata": {},
   "outputs": [
    {
     "data": {
      "text/plain": [
       "KFold(n_splits=5, random_state=None, shuffle=False)"
      ]
     },
     "execution_count": 136,
     "metadata": {},
     "output_type": "execute_result"
    }
   ],
   "source": [
    "cv = KFold(n_splits=5)\n",
    "cv"
   ]
  },
  {
   "cell_type": "code",
   "execution_count": 149,
   "id": "240d028f",
   "metadata": {},
   "outputs": [],
   "source": [
    "from nilearn.decoding import Decoder\n",
    "from sklearn.model_selection import KFold\n",
    "n_folds = 5\n",
    "decoder = Decoder(\n",
    "    estimator='svc', mask=m1,\n",
    "    standardize=True, cv=n_folds,\n",
    "    scoring='accuracy'\n",
    ")\n",
    "decoder.fit(cd_scans, thm1_labels)\n"
   ]
  },
  {
   "cell_type": "code",
   "execution_count": 152,
   "id": "2ed90270",
   "metadata": {},
   "outputs": [
    {
     "name": "stdout",
     "output_type": "stream",
     "text": [
      "{'C': [100.0, 100.0, 100.0, 100.0, 100.0]}\n",
      "{0.0: [0.4, 0.6, 0.25, 0.25, 0.25], 1.0: [0.4, 0.6, 0.25, 0.25, 0.25]}\n"
     ]
    }
   ],
   "source": [
    "print(decoder.cv_params_[0])\n",
    "\n",
    "print(decoder.cv_scores_)\n"
   ]
  },
  {
   "cell_type": "code",
   "execution_count": 74,
   "id": "c3946d2e",
   "metadata": {},
   "outputs": [
    {
     "data": {
      "text/plain": [
       "<nilearn.plotting.displays.OrthoSlicer at 0x199a55c0f40>"
      ]
     },
     "execution_count": 74,
     "metadata": {},
     "output_type": "execute_result"
    },
    {
     "data": {
      "image/png": "[encoded data removed]",
      "text/plain": [
       "<Figure size 525.6x187.2 with 5 Axes>"
      ]
     },
     "metadata": {},
     "output_type": "display_data"
    }
   ],
   "source": [
    "weight_img = decoder.coef_img_[1]\n",
    "from nilearn.plotting import plot_stat_map, show\n",
    "plot_stat_map(weight_img, bg_img=None, title='SVM weights')\n"
   ]
  },
  {
   "cell_type": "code",
   "execution_count": null,
   "id": "fc710094",
   "metadata": {},
   "outputs": [],
   "source": []
  }
 ],
 "metadata": {
  "kernelspec": {
   "display_name": "Python 3",
   "language": "python",
   "name": "python3"
  },
  "language_info": {
   "codemirror_mode": {
    "name": "ipython",
    "version": 3
   },
   "file_extension": ".py",
   "mimetype": "text/x-python",
   "name": "python",
   "nbconvert_exporter": "python",
   "pygments_lexer": "ipython3",
   "version": "3.8.8"
  }
 },
 "nbformat": 4,
 "nbformat_minor": 5
}

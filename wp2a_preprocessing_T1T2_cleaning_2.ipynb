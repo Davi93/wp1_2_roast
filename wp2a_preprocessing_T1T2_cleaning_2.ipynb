{
 "cells": [
  {
   "cell_type": "code",
   "execution_count": 1,
   "metadata": {},
   "outputs": [],
   "source": [
    "import numpy as np\n",
    "import nilearn\n",
    "import os\n",
    "import glob\n",
    "\n",
    "main_folder = 'C:\\\\Users\\\\davide\\\\Documents\\\\GitHub\\\\wp1_2_roast\\\\' \n",
    "output_folder = 'D:\\\\roast-chapter3\\\\wp_all_results\\\\' # where to save results\n",
    "data_folder = 'D:\\\\roast-chapter3\\\\'\n",
    "\n",
    "# Datasets names and subjects lists\n",
    "db_names = ['wp2a']\n",
    "\n",
    "# list of subjects with cod-liver oil in T1\n",
    "db_subjects = [['01','02','03','04','06','07','08','09','10','11','12','13','15','16','17','18','19','20','22','23','24']] \n",
    "\n",
    "# List of coordinates for each subject (return electrode: cathodal, active electrode: anodal)\n",
    "cath_coords = {\n",
    "            '01': (140,188,185),\n",
    "            '02': (133,192,182),\n",
    "            '03': (127,207,195),\n",
    "            '04': (139,195,180),\n",
    "            '06': (135,186,188),\n",
    "            '07': (142,183,196),\n",
    "            '08': (148,182,188),\n",
    "            '09': (142,186,187),\n",
    "            '10': (151,180,182),\n",
    "            '11': (149,189,179),\n",
    "            '12': (146,185,189),\n",
    "            '13': (145,191,189),\n",
    "            '14': (131,186,202),\n",
    "            '15': (134,192,193),\n",
    "            '16': (133,185,193),\n",
    "            '17': (133,185,190),\n",
    "            '18': (140,190,185),\n",
    "            '19': (158,183,172),\n",
    "            '20': (156,174,190),\n",
    "            '22': (147,179,181),\n",
    "            '23': (142,187,180),\n",
    "            '24': (132,182,190)\n",
    "}\n",
    "anod_coords = {\n",
    "            '01': (70,85,221),\n",
    "            '02': (49,99,211),\n",
    "            '03': (37,98,200),\n",
    "            '04': (38,109,197),\n",
    "            '06': (36,86,189),\n",
    "            '07': (46,75,213),\n",
    "            '08': (40,75,193),\n",
    "            '09': (37,88,194),\n",
    "            '10': (40,75,190),\n",
    "            '11': (49,81,211),\n",
    "            '12': (49,66,203),\n",
    "            '13': (49,94,216),\n",
    "            '14': (46,60,209),\n",
    "            '15': (36,73,199),\n",
    "            '16': (47,76,204),\n",
    "            '17': (40,83,204),\n",
    "            '18': (46,99,216),\n",
    "            '19': (28,97,190),\n",
    "            '20': (40,72,198),\n",
    "            '22': (46,94,210),\n",
    "            '23': (44,93,207),\n",
    "            '24': (37,95,199)\n",
    "}\n",
    "\n",
    "# list of subjects with cod-liver oil in T2\n",
    "db_subjects_t2s = [['03','04','06','07','08','09','10','11','12','13','14','17','18','19','20','22','23','24']]\n"
   ]
  },
  {
   "cell_type": "code",
   "execution_count": 2,
   "metadata": {},
   "outputs": [
    {
     "name": "stderr",
     "output_type": "stream",
     "text": [
      "C:\\Users\\davide\\miniconda3\\envs\\neuroimg\\lib\\site-packages\\nilearn\\datasets\\__init__.py:93: FutureWarning: Fetchers from the nilearn.datasets module will be updated in version 0.9 to return python strings instead of bytes and Pandas dataframes instead of Numpy arrays.\n",
      "  warn(\"Fetchers from the nilearn.datasets module will be \"\n",
      "1it [00:00,  8.22it/s]"
     ]
    },
    {
     "name": "stdout",
     "output_type": "stream",
     "text": [
      "D:\\roast-chapter3\\wp2a\\sub-07\n"
     ]
    },
    {
     "name": "stderr",
     "output_type": "stream",
     "text": [
      "\n"
     ]
    }
   ],
   "source": [
    "from nilearn import image\n",
    "from skimage import measure\n",
    "from nilearn.image import new_img_like\n",
    "from nilearn.plotting import plot_stat_map, plot_anat, plot_img\n",
    "import cupy as cp\n",
    "from scipy import ndimage\n",
    "from tqdm import tqdm\n",
    "\n",
    "for db_id, db in enumerate(db_names): # Iterate all three datasets\n",
    "    db_path = os.path.join(data_folder, db) # Dataset folder\n",
    "\n",
    "    for i, subject in tqdm(enumerate(db_subjects[db_id])): #Iterate all subjects\n",
    "        path = db_path + '\\sub-' + subject # Subject folder\n",
    "        print(path)\n",
    "\n",
    "        T1 = image.load_img(glob.glob(path + '\\sub-*T1.nii'))\n",
    "\n",
    "        # filename of the t1 without the cod liver oil\n",
    "        T1_cleaned_fname = glob.glob(path + '\\sub-*T1.nii')[0].split('\\\\')[-1].split('.')[0] + '_withoutcdl.nii'\n",
    "        t1_cdl = image.load_img(path + '\\\\' + 'cod_liver_oilT1.nii')\n",
    "        T1_itk_snap = image.load_img(path + '\\\\' + T1_cleaned_fname)\n",
    "        t1_itk_mask = image.load_img(glob.glob(path + '\\\\t1_elect_mask.nii'))\n",
    "\n"
   ]
  },
  {
   "cell_type": "markdown",
   "metadata": {},
   "source": []
  }
 ],
 "metadata": {
  "interpreter": {
   "hash": "2bb2e88c02631c9acdb2cca42b47db8d956c77e5d847ec74ace7cfa2c4442818"
  },
  "kernelspec": {
   "display_name": "Python 3.9.7 64-bit ('neuroimg': conda)",
   "language": "python",
   "name": "python3"
  },
  "language_info": {
   "codemirror_mode": {
    "name": "ipython",
    "version": 3
   },
   "file_extension": ".py",
   "mimetype": "text/x-python",
   "name": "python",
   "nbconvert_exporter": "python",
   "pygments_lexer": "ipython3",
   "version": "3.9.7"
  },
  "orig_nbformat": 4
 },
 "nbformat": 4,
 "nbformat_minor": 2
}

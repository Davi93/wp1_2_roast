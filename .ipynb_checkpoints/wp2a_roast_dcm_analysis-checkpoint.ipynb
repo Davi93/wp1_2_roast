{
 "cells": [
  {
   "cell_type": "code",
   "execution_count": 17,
   "id": "eb790501",
   "metadata": {},
   "outputs": [],
   "source": [
    "# Imports\n",
    "import glob\n",
    "import numpy as np\n",
    "from nilearn import image, plotting\n",
    "from nilearn.image import new_img_like\n",
    "import os\n",
    "import scipy.io"
   ]
  },
  {
   "cell_type": "code",
   "execution_count": 124,
   "id": "8ec82500",
   "metadata": {},
   "outputs": [],
   "source": [
    "main_folder = 'C:\\\\Users\\\\davide\\\\Documents\\\\GitHub\\\\wp1_2_roast' #main folder with data\n",
    "bck_img_map = image.load_img(os.path.join(main_folder, 'MNI152_T1_1mm_Brain.nii')) #Background for plotting purposes\n",
    "#List of subjects\n",
    "subjects = ['01','02','03','04','06','07','08','09','10','11','12','13','14','15','16','17','18','19','20','22','23','24']\n",
    "#subjects = ['01','02']\n",
    "\n",
    "dcm_data_day1_path = os.path.join(main_folder,'Day1_all_EPvalues.mat') #mat file with DCM results of day 1\n",
    "dcm_data_day1 = scipy.io.loadmat(dcm_data_day1_path)\n",
    "#NB this file contains results for all 22 subjects for all 3 polarities (anodal, cathodal and sham)\n",
    "#And the order is anodal, cathodal and sham for each subject (so I'm only interested in matrices 0, 3, 6 ... etc)"
   ]
  },
  {
   "cell_type": "code",
   "execution_count": 125,
   "id": "70d60271",
   "metadata": {},
   "outputs": [],
   "source": [
    "#Loading ROIs\n",
    "m1_path = os.path.join(main_folder,'rois','m1.nii')\n",
    "th_path = os.path.join(main_folder,'rois','th.nii')\n",
    "m1 = image.load_img(m1_path)\n",
    "th = image.load_img(th_path)"
   ]
  },
  {
   "cell_type": "code",
   "execution_count": 127,
   "id": "fc3497b8",
   "metadata": {},
   "outputs": [
    {
     "name": "stdout",
     "output_type": "stream",
     "text": [
      "Analysing subject: 01\n",
      "Path: D:\\roast-chapter3\\wp2a\\sub-01\n",
      "M1<->M1 connectivity: 0.05520965013149901\n",
      "Th<->M1 connectivity: -0.07975793559423307\n",
      "Mean Electric field value in M1: 0.1674830709569266\n",
      "Mean Electric field value in Th: 0.07424893171272495\n",
      "\n",
      "\n",
      "Analysing subject: 02\n",
      "Path: D:\\roast-chapter3\\wp2a\\sub-02\n",
      "M1<->M1 connectivity: -0.3622170140993727\n",
      "Th<->M1 connectivity: 0.009976267482675176\n",
      "Mean Electric field value in M1: 0.15881597148640145\n",
      "Mean Electric field value in Th: 0.07654037188717418\n",
      "\n",
      "\n",
      "Analysing subject: 03\n",
      "Path: D:\\roast-chapter3\\wp2a\\sub-03\n",
      "M1<->M1 connectivity: -0.47099440513360225\n",
      "Th<->M1 connectivity: -0.050989560217344625\n",
      "Mean Electric field value in M1: 0.15538377634588244\n",
      "Mean Electric field value in Th: 0.07749358916358853\n",
      "\n",
      "\n",
      "Analysing subject: 04\n",
      "Path: D:\\roast-chapter3\\wp2a\\sub-04\n",
      "M1<->M1 connectivity: 0.38944055779915\n",
      "Th<->M1 connectivity: -0.04625637970749385\n",
      "Mean Electric field value in M1: 0.1677312717394786\n",
      "Mean Electric field value in Th: 0.08604534333233128\n",
      "\n",
      "\n",
      "Analysing subject: 06\n",
      "Path: D:\\roast-chapter3\\wp2a\\sub-06\n",
      "M1<->M1 connectivity: -0.015586507122293392\n",
      "Th<->M1 connectivity: -0.013414528289540385\n",
      "Mean Electric field value in M1: 0.0\n",
      "Mean Electric field value in Th: 0.0\n",
      "\n",
      "\n",
      "Analysing subject: 07\n",
      "Path: D:\\roast-chapter3\\wp2a\\sub-07\n",
      "M1<->M1 connectivity: 3.734876936238998e-15\n",
      "Th<->M1 connectivity: -1.8963018324696973e-13\n",
      "Mean Electric field value in M1: 0.1373662132076746\n",
      "Mean Electric field value in Th: 0.08333899694494903\n",
      "\n",
      "\n",
      "Analysing subject: 08\n",
      "Path: D:\\roast-chapter3\\wp2a\\sub-08\n",
      "M1<->M1 connectivity: 0.39753140326875047\n",
      "Th<->M1 connectivity: 0.06595225684895008\n",
      "Mean Electric field value in M1: 0.23807333707909817\n",
      "Mean Electric field value in Th: 0.10835185791196471\n",
      "\n",
      "\n",
      "Analysing subject: 09\n",
      "Path: D:\\roast-chapter3\\wp2a\\sub-09\n",
      "M1<->M1 connectivity: -0.319732355737596\n",
      "Th<->M1 connectivity: -0.07215411283158937\n",
      "Mean Electric field value in M1: 0.2120799319599388\n",
      "Mean Electric field value in Th: 0.09133046945641664\n",
      "\n",
      "\n",
      "Analysing subject: 10\n",
      "Path: D:\\roast-chapter3\\wp2a\\sub-10\n",
      "M1<->M1 connectivity: 0.2628528213725594\n",
      "Th<->M1 connectivity: -0.036540203635374975\n",
      "Mean Electric field value in M1: 0.19954907841440575\n",
      "Mean Electric field value in Th: 0.08481118743011559\n",
      "\n",
      "\n",
      "Analysing subject: 11\n",
      "Path: D:\\roast-chapter3\\wp2a\\sub-11\n",
      "M1<->M1 connectivity: -0.05301711074510341\n",
      "Th<->M1 connectivity: -0.028094479059982257\n",
      "Mean Electric field value in M1: 0.13637196905982285\n",
      "Mean Electric field value in Th: 0.06859487705038522\n",
      "\n",
      "\n",
      "Analysing subject: 12\n",
      "Path: D:\\roast-chapter3\\wp2a\\sub-12\n",
      "M1<->M1 connectivity: 0.07902336173949327\n",
      "Th<->M1 connectivity: -0.06542329881858745\n",
      "Mean Electric field value in M1: 0.1443874707418561\n",
      "Mean Electric field value in Th: 0.09136553907258944\n",
      "\n",
      "\n",
      "Analysing subject: 13\n",
      "Path: D:\\roast-chapter3\\wp2a\\sub-13\n",
      "M1<->M1 connectivity: 0.19569744937835432\n",
      "Th<->M1 connectivity: 0.020444240275388336\n",
      "Mean Electric field value in M1: 0.15552644211042438\n",
      "Mean Electric field value in Th: 0.08342340780210428\n",
      "\n",
      "\n",
      "Analysing subject: 14\n",
      "Path: D:\\roast-chapter3\\wp2a\\sub-14\n",
      "M1<->M1 connectivity: -0.07334959571890393\n",
      "Th<->M1 connectivity: 0.03224724093745157\n",
      "Mean Electric field value in M1: 0.13969757171084662\n",
      "Mean Electric field value in Th: 0.07913808501113884\n",
      "\n",
      "\n",
      "Analysing subject: 15\n",
      "Path: D:\\roast-chapter3\\wp2a\\sub-15\n",
      "M1<->M1 connectivity: -0.12537296611498497\n",
      "Th<->M1 connectivity: 0.05873704084121268\n",
      "Mean Electric field value in M1: 0.14448720581501498\n",
      "Mean Electric field value in Th: 0.0801697867135094\n",
      "\n",
      "\n",
      "Analysing subject: 16\n",
      "Path: D:\\roast-chapter3\\wp2a\\sub-16\n",
      "M1<->M1 connectivity: 0.0002903093665639439\n",
      "Th<->M1 connectivity: -0.012660899451583113\n",
      "Mean Electric field value in M1: 0.14290343333929523\n",
      "Mean Electric field value in Th: 0.09396295047111132\n",
      "\n",
      "\n",
      "Analysing subject: 17\n",
      "Path: D:\\roast-chapter3\\wp2a\\sub-17\n",
      "M1<->M1 connectivity: 0.1095864484057724\n",
      "Th<->M1 connectivity: 0.15807610902039376\n",
      "Mean Electric field value in M1: 0.15494562573472098\n",
      "Mean Electric field value in Th: 0.09026415418494832\n",
      "\n",
      "\n",
      "Analysing subject: 18\n",
      "Path: D:\\roast-chapter3\\wp2a\\sub-18\n",
      "M1<->M1 connectivity: -0.005239352711692469\n",
      "Th<->M1 connectivity: -0.014237689865822158\n",
      "Mean Electric field value in M1: 0.1758734414407321\n",
      "Mean Electric field value in Th: 0.07562704580539668\n",
      "\n",
      "\n",
      "Analysing subject: 19\n",
      "Path: D:\\roast-chapter3\\wp2a\\sub-19\n",
      "M1<->M1 connectivity: 0.24043697992842816\n",
      "Th<->M1 connectivity: -0.0814992248181818\n",
      "Mean Electric field value in M1: 0.22712321753201078\n",
      "Mean Electric field value in Th: 0.10153186632955277\n",
      "\n",
      "\n",
      "Analysing subject: 20\n",
      "Path: D:\\roast-chapter3\\wp2a\\sub-20\n",
      "M1<->M1 connectivity: -0.06944492631584935\n",
      "Th<->M1 connectivity: 0.1681485639975274\n",
      "Mean Electric field value in M1: 0.16888430928024323\n",
      "Mean Electric field value in Th: 0.06373402834531258\n",
      "\n",
      "\n",
      "Analysing subject: 22\n",
      "Path: D:\\roast-chapter3\\wp2a\\sub-22\n",
      "M1<->M1 connectivity: -0.2211398411528659\n",
      "Th<->M1 connectivity: 0.016348025141096026\n",
      "Mean Electric field value in M1: 0.1452808106971574\n",
      "Mean Electric field value in Th: 0.09394737376069481\n",
      "\n",
      "\n",
      "Analysing subject: 23\n",
      "Path: D:\\roast-chapter3\\wp2a\\sub-23\n",
      "M1<->M1 connectivity: -0.23948466817910266\n",
      "Th<->M1 connectivity: -0.0862835853313863\n",
      "Mean Electric field value in M1: 0.09100511988732696\n",
      "Mean Electric field value in Th: 0.06470685825175182\n",
      "\n",
      "\n",
      "Analysing subject: 24\n",
      "Path: D:\\roast-chapter3\\wp2a\\sub-24\n",
      "M1<->M1 connectivity: -0.06628620479878156\n",
      "Th<->M1 connectivity: 0.014613783630658312\n",
      "Mean Electric field value in M1: 0.15554585621702277\n",
      "Mean Electric field value in Th: 0.07279532157054001\n",
      "\n",
      "\n"
     ]
    }
   ],
   "source": [
    "pos_dcm_res = 0 #Position of the DCM results for subject 1, day 1 (anodal)\n",
    "\n",
    "# Where I'll save m1 self connections and all th->m1\n",
    "all_m1selfcon = []\n",
    "all_thm1 = []\n",
    "\n",
    "# Where I'll save emag values for m1 and th for each subject\n",
    "all_m1_emag = []\n",
    "all_th_emag = []\n",
    "\n",
    "for sbj in subjects:\n",
    "    print('Analysing subject: ' + sbj)\n",
    "    path = 'D:\\\\roast-chapter3\\wp2a\\sub-' + sbj\n",
    "    print('Path: ' + path)\n",
    "    \n",
    "    #Loading ROAST field magnitude simulation\n",
    "    emag_map = image.load_img(glob.glob(path+ '/swsub-*_T1_*_emag.nii')) \n",
    "    emag_data = emag_map.get_fdata() \n",
    "    \n",
    "    #Loading binary map for the subject (c1 = grey matter, c2 = white matter)\n",
    "    anat_map = image.load_img(glob.glob(path+ '/c1c2bin.nii')) #Loading c1/c2 masks\n",
    "    anat_data = anat_map.get_fdata()\n",
    "    \n",
    "    #Emag map masked using c1c2 masks (to keep only values in white/grey matter)\n",
    "    emag_msk = np.where(anat_data > 0, emag_data, 0) \n",
    "    emag_msk = emag_msk.reshape([157,189,156])\n",
    "    emag_map_msk = new_img_like(emag_map,emag_msk) # new emag image containing only values within the brain\n",
    "    \n",
    "    # Resampling ROIs to the dimention of the emag map\n",
    "    m1_resampled = image.resample_to_img(m1,emag_map_msk, interpolation = 'nearest')\n",
    "    th_resampled = image.resample_to_img(th,emag_map_msk, interpolation = 'nearest')\n",
    "    \n",
    "    #Loading DCM results for the subject\n",
    "    this_dcm = np.array(dcm_data_day1['ALLEP'][0][pos_dcm_res].todense().reshape((4,4)))   \n",
    "    #print(this_dcm)\n",
    "    \n",
    "    # I am only interested in m1 self connectivity and th->m1\n",
    "    m1m1 = this_dcm[0][0]\n",
    "    thm1 = this_dcm[0][1]\n",
    "    \n",
    "    # Saving the values\n",
    "    all_m1selfcon.append(m1m1)\n",
    "    all_thm1.append(thm1)\n",
    "    \n",
    "    print('M1<->M1 connectivity: ' + str(m1m1))\n",
    "    print('Th<->M1 connectivity: ' + str(thm1))\n",
    "\n",
    "    # Calculating the mean of the electric field intensity for M1 and TH\n",
    "    # For this I first need to mask the emag map\n",
    "    emag_masked_m1 = image.math_img(\"img * img2\", img=emag_map_msk, img2 = m1_resampled) #Applying m1 mask\n",
    "    emag_masked_th = image.math_img(\"img * img2\", img=emag_map_msk, img2 = th_resampled) #Applying th mask\n",
    "    \n",
    "    # Assigning nans to zeroes to exclude non M1 voxels from the calculation of the mean\n",
    "    emag_masked_m1_nans = np.where(m1_resampled.get_fdata() == 0, np.nan, emag_masked_m1.get_fdata())\n",
    "    emag_masked_th_nans = np.where(th_resampled.get_fdata() == 0, np.nan, emag_masked_th.get_fdata())\n",
    "\n",
    "    # Calculating means\n",
    "    m1_emag_mean = np.nanmean(emag_masked_m1_nans)\n",
    "    th_emag_mean = np.nanmean(emag_masked_th_nans)\n",
    "    \n",
    "    # Saving the values\n",
    "    all_m1_emag.append(m1_emag_mean)\n",
    "    all_th_emag.append(th_emag_mean)   \n",
    "    \n",
    "    print('Mean Electric field value in M1: ' + str(m1_emag_mean))\n",
    "    print('Mean Electric field value in Th: ' + str(th_emag_mean))\n",
    "    print('\\n')\n",
    "    pos_dcm_res += 3 #Moving to the next subject\n",
    "    "
   ]
  },
  {
   "cell_type": "code",
   "execution_count": 109,
   "id": "42321f56",
   "metadata": {},
   "outputs": [
    {
     "data": {
      "text/plain": [
       "<nilearn.plotting.displays.OrthoSlicer at 0x207057e58b0>"
      ]
     },
     "execution_count": 109,
     "metadata": {},
     "output_type": "execute_result"
    },
    {
     "data": {
      "image/png": "[encoded data removed]",
      "text/plain": [
       "<Figure size 475.2x187.2 with 4 Axes>"
      ]
     },
     "metadata": {},
     "output_type": "display_data"
    }
   ],
   "source": [
    "plotting.plot_roi(emag_map_msk,\n",
    "                  cmap = 'hot_r',\n",
    "                  threshold = 0, vmax = 0.36, alpha = 0.45,\n",
    "                  black_bg = False)\n",
    "\n",
    "#image.math_img(\"img\", img=mesh_map).to_filename('meshed.nii')\n"
   ]
  },
  {
   "cell_type": "code",
   "execution_count": 134,
   "id": "e6dfa76a",
   "metadata": {},
   "outputs": [
    {
     "name": "stdout",
     "output_type": "stream",
     "text": [
      "Correlation m1 self connectivity and m1 electric field intensity\n",
      "p value: 0.167713, r=0.304867\n"
     ]
    },
    {
     "data": {
      "image/png": "[encoded data removed]",
      "text/plain": [
       "<Figure size 432x288 with 1 Axes>"
      ]
     },
     "metadata": {
      "needs_background": "light"
     },
     "output_type": "display_data"
    }
   ],
   "source": [
    "# Correlation m1 self connectivity and m1 electric field intensity\n",
    "\n",
    "x = np.transpose(all_m1_emag)\n",
    "y = np.transpose(all_m1selfcon)\n",
    "\n",
    "r,p  = scipy.stats.pearsonr(x, y)    # Pearson's r\n",
    "print('Correlation m1 self connectivity and m1 electric field intensity')\n",
    "print('p value: ' + str(round(p,6)) + ', r=' + str(round(r,6)))\n",
    "# Plot\n",
    "from numpy.polynomial.polynomial import polyfit\n",
    "b, m = polyfit(x, y, 1)\n",
    "plt.plot(x, y, '.')\n",
    "plt.plot(x, b + m * x, '-')\n",
    "plt.show()"
   ]
  },
  {
   "cell_type": "code",
   "execution_count": 136,
   "id": "b5e31884",
   "metadata": {},
   "outputs": [
    {
     "name": "stdout",
     "output_type": "stream",
     "text": [
      "Correlation m1 self connectivity and m1 electric field intensity\n",
      "p value: 0.895722, r=0.02967\n"
     ]
    },
    {
     "data": {
      "image/png": "[encoded data removed]",
      "text/plain": [
       "<Figure size 432x288 with 1 Axes>"
      ]
     },
     "metadata": {
      "needs_background": "light"
     },
     "output_type": "display_data"
    }
   ],
   "source": [
    "# Correlation th->m1 connectivity and m1 electric field intensity\n",
    "\n",
    "x = np.transpose(all_m1_emag)\n",
    "y = np.transpose(all_thm1)\n",
    "\n",
    "r,p  = scipy.stats.pearsonr(x, y)    # Pearson's r\n",
    "print('Correlation m1 self connectivity and m1 electric field intensity')\n",
    "print('p value: ' + str(round(p,6)) + ', r=' + str(round(r,6)))\n",
    "# Plot\n",
    "from numpy.polynomial.polynomial import polyfit\n",
    "b, m = polyfit(x, y, 1)\n",
    "plt.plot(x, y, '.')\n",
    "plt.plot(x, b + m * x, '-')\n",
    "plt.show()"
   ]
  },
  {
   "cell_type": "code",
   "execution_count": 138,
   "id": "d7b9cba2",
   "metadata": {},
   "outputs": [
    {
     "data": {
      "text/plain": [
       "[0.1674830709569266,\n",
       " 0.15881597148640145,\n",
       " 0.15538377634588244,\n",
       " 0.1677312717394786,\n",
       " 0.0,\n",
       " 0.1373662132076746,\n",
       " 0.23807333707909817,\n",
       " 0.2120799319599388,\n",
       " 0.19954907841440575,\n",
       " 0.13637196905982285,\n",
       " 0.1443874707418561,\n",
       " 0.15552644211042438,\n",
       " 0.13969757171084662,\n",
       " 0.14448720581501498,\n",
       " 0.14290343333929523,\n",
       " 0.15494562573472098,\n",
       " 0.1758734414407321,\n",
       " 0.22712321753201078,\n",
       " 0.16888430928024323,\n",
       " 0.1452808106971574,\n",
       " 0.09100511988732696,\n",
       " 0.15554585621702277]"
      ]
     },
     "execution_count": 138,
     "metadata": {},
     "output_type": "execute_result"
    }
   ],
   "source": [
    "all_m1_emag"
   ]
  }
 ],
 "metadata": {
  "kernelspec": {
   "display_name": "Python 3",
   "language": "python",
   "name": "python3"
  },
  "language_info": {
   "codemirror_mode": {
    "name": "ipython",
    "version": 3
   },
   "file_extension": ".py",
   "mimetype": "text/x-python",
   "name": "python",
   "nbconvert_exporter": "python",
   "pygments_lexer": "ipython3",
   "version": "3.8.8"
  }
 },
 "nbformat": 4,
 "nbformat_minor": 5
}
